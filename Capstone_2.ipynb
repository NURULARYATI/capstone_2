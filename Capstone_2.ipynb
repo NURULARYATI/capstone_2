{
  "cells": [
    {
      "cell_type": "markdown",
      "metadata": {
        "id": "Qi3Ar1A8sIHE"
      },
      "source": [
        "# i. Objective"
      ]
    },
    {
      "cell_type": "markdown",
      "metadata": {
        "id": "F2IsPlsWuD_2"
      },
      "source": [
        "Predicting airplane ticket prices based on the available dataset by comparing the results from various regression models.\n"
      ]
    },
    {
      "cell_type": "markdown",
      "metadata": {
        "id": "Rh5sXSPKsIJr"
      },
      "source": [
        "# ii. Import Libraries"
      ]
    },
    {
      "cell_type": "code",
      "execution_count": 3,
      "metadata": {
        "id": "pj5_4_J6uJ7h"
      },
      "outputs": [],
      "source": [
        "# Import libraries\n",
        "\n",
        "import pandas as pd\n",
        "import numpy as np\n",
        "import matplotlib.pyplot as plt\n",
        "import seaborn as sns\n",
        "import scipy.stats as stats\n",
        "\n",
        "import joblib\n",
        "import json\n",
        "import pickle\n",
        "\n",
        "import warnings\n",
        "warnings.filterwarnings('ignore')\n",
        "\n",
        "\n",
        "# Untuk membuat model\n",
        "from sklearn.svm import SVC # Support Vector Machine Classifier\n",
        "from sklearn.tree import DecisionTreeClassifier # Decision Tree\n",
        "from sklearn.ensemble import RandomForestClassifier # Random Forest\n",
        "from sklearn.linear_model import LinearRegression\n",
        "from sklearn.neighbors import KNeighborsClassifier\n",
        "from sklearn.ensemble import AdaBoostRegressor\n",
        "from sklearn.compose import ColumnTransformer\n",
        "from sklearn.pipeline import Pipeline\n",
        "from sklearn.model_selection import GridSearchCV\n",
        "\n",
        "# Untuk menyiapkan dataset\n",
        "from sklearn.model_selection import train_test_split\n",
        "from sklearn.preprocessing import MinMaxScaler\n",
        "from sklearn.preprocessing import StandardScaler\n",
        "from sklearn.preprocessing import OneHotEncoder\n",
        "from sklearn.preprocessing import OrdinalEncoder\n",
        "\n",
        "# Untuk evaluasi model\n",
        "from sklearn.metrics import mean_absolute_error\n",
        "from sklearn.metrics import r2_score\n",
        "from sklearn.model_selection import cross_val_score"
      ]
    },
    {
      "cell_type": "markdown",
      "metadata": {
        "id": "Kj0CcgxAsIMD"
      },
      "source": [
        "# iii. Data Loading"
      ]
    },
    {
      "cell_type": "code",
      "execution_count": 4,
      "metadata": {
        "id": "OGARwRCZBJHP"
      },
      "outputs": [],
      "source": [
        "# Import data yang akan digunakan\n",
        "\n",
        "data_ori = pd.read_csv('Clean_Dataset.csv')"
      ]
    },
    {
      "cell_type": "code",
      "execution_count": 5,
      "metadata": {
        "id": "eUPG7DEgBMuw"
      },
      "outputs": [],
      "source": [
        "# Duplicate original data\n",
        "\n",
        "data = data_ori.copy()"
      ]
    },
    {
      "cell_type": "code",
      "execution_count": 6,
      "metadata": {
        "colab": {
          "base_uri": "https://localhost:8080/",
          "height": 322
        },
        "id": "L0R8bARPBSI2",
        "outputId": "6e9522c7-1a21-4f77-d426-67660e9fb53a"
      },
      "outputs": [
        {
          "data": {
            "text/html": [
              "<div>\n",
              "<style scoped>\n",
              "    .dataframe tbody tr th:only-of-type {\n",
              "        vertical-align: middle;\n",
              "    }\n",
              "\n",
              "    .dataframe tbody tr th {\n",
              "        vertical-align: top;\n",
              "    }\n",
              "\n",
              "    .dataframe thead th {\n",
              "        text-align: right;\n",
              "    }\n",
              "</style>\n",
              "<table border=\"1\" class=\"dataframe\">\n",
              "  <thead>\n",
              "    <tr style=\"text-align: right;\">\n",
              "      <th></th>\n",
              "      <th>Unnamed: 0</th>\n",
              "      <th>airline</th>\n",
              "      <th>flight</th>\n",
              "      <th>source_city</th>\n",
              "      <th>departure_time</th>\n",
              "      <th>stops</th>\n",
              "      <th>arrival_time</th>\n",
              "      <th>destination_city</th>\n",
              "      <th>class</th>\n",
              "      <th>duration</th>\n",
              "      <th>days_left</th>\n",
              "      <th>price</th>\n",
              "    </tr>\n",
              "  </thead>\n",
              "  <tbody>\n",
              "    <tr>\n",
              "      <th>0</th>\n",
              "      <td>0</td>\n",
              "      <td>SpiceJet</td>\n",
              "      <td>SG-8709</td>\n",
              "      <td>Delhi</td>\n",
              "      <td>Evening</td>\n",
              "      <td>zero</td>\n",
              "      <td>Night</td>\n",
              "      <td>Mumbai</td>\n",
              "      <td>Economy</td>\n",
              "      <td>2.17</td>\n",
              "      <td>1</td>\n",
              "      <td>5953</td>\n",
              "    </tr>\n",
              "    <tr>\n",
              "      <th>1</th>\n",
              "      <td>1</td>\n",
              "      <td>SpiceJet</td>\n",
              "      <td>SG-8157</td>\n",
              "      <td>Delhi</td>\n",
              "      <td>Early_Morning</td>\n",
              "      <td>zero</td>\n",
              "      <td>Morning</td>\n",
              "      <td>Mumbai</td>\n",
              "      <td>Economy</td>\n",
              "      <td>2.33</td>\n",
              "      <td>1</td>\n",
              "      <td>5953</td>\n",
              "    </tr>\n",
              "    <tr>\n",
              "      <th>2</th>\n",
              "      <td>2</td>\n",
              "      <td>AirAsia</td>\n",
              "      <td>I5-764</td>\n",
              "      <td>Delhi</td>\n",
              "      <td>Early_Morning</td>\n",
              "      <td>zero</td>\n",
              "      <td>Early_Morning</td>\n",
              "      <td>Mumbai</td>\n",
              "      <td>Economy</td>\n",
              "      <td>2.17</td>\n",
              "      <td>1</td>\n",
              "      <td>5956</td>\n",
              "    </tr>\n",
              "    <tr>\n",
              "      <th>3</th>\n",
              "      <td>3</td>\n",
              "      <td>Vistara</td>\n",
              "      <td>UK-995</td>\n",
              "      <td>Delhi</td>\n",
              "      <td>Morning</td>\n",
              "      <td>zero</td>\n",
              "      <td>Afternoon</td>\n",
              "      <td>Mumbai</td>\n",
              "      <td>Economy</td>\n",
              "      <td>2.25</td>\n",
              "      <td>1</td>\n",
              "      <td>5955</td>\n",
              "    </tr>\n",
              "    <tr>\n",
              "      <th>4</th>\n",
              "      <td>4</td>\n",
              "      <td>Vistara</td>\n",
              "      <td>UK-963</td>\n",
              "      <td>Delhi</td>\n",
              "      <td>Morning</td>\n",
              "      <td>zero</td>\n",
              "      <td>Morning</td>\n",
              "      <td>Mumbai</td>\n",
              "      <td>Economy</td>\n",
              "      <td>2.33</td>\n",
              "      <td>1</td>\n",
              "      <td>5955</td>\n",
              "    </tr>\n",
              "  </tbody>\n",
              "</table>\n",
              "</div>"
            ],
            "text/plain": [
              "   Unnamed: 0   airline   flight source_city departure_time stops  \\\n",
              "0           0  SpiceJet  SG-8709       Delhi        Evening  zero   \n",
              "1           1  SpiceJet  SG-8157       Delhi  Early_Morning  zero   \n",
              "2           2   AirAsia   I5-764       Delhi  Early_Morning  zero   \n",
              "3           3   Vistara   UK-995       Delhi        Morning  zero   \n",
              "4           4   Vistara   UK-963       Delhi        Morning  zero   \n",
              "\n",
              "    arrival_time destination_city    class  duration  days_left  price  \n",
              "0          Night           Mumbai  Economy      2.17          1   5953  \n",
              "1        Morning           Mumbai  Economy      2.33          1   5953  \n",
              "2  Early_Morning           Mumbai  Economy      2.17          1   5956  \n",
              "3      Afternoon           Mumbai  Economy      2.25          1   5955  \n",
              "4        Morning           Mumbai  Economy      2.33          1   5955  "
            ]
          },
          "execution_count": 6,
          "metadata": {},
          "output_type": "execute_result"
        }
      ],
      "source": [
        "data.head()"
      ]
    },
    {
      "cell_type": "code",
      "execution_count": 7,
      "metadata": {
        "colab": {
          "base_uri": "https://localhost:8080/",
          "height": 288
        },
        "id": "cWn3ZQehBUbx",
        "outputId": "1ec0ebb4-8048-4112-ff89-c5c8f6252607"
      },
      "outputs": [
        {
          "data": {
            "text/html": [
              "<div>\n",
              "<style scoped>\n",
              "    .dataframe tbody tr th:only-of-type {\n",
              "        vertical-align: middle;\n",
              "    }\n",
              "\n",
              "    .dataframe tbody tr th {\n",
              "        vertical-align: top;\n",
              "    }\n",
              "\n",
              "    .dataframe thead th {\n",
              "        text-align: right;\n",
              "    }\n",
              "</style>\n",
              "<table border=\"1\" class=\"dataframe\">\n",
              "  <thead>\n",
              "    <tr style=\"text-align: right;\">\n",
              "      <th></th>\n",
              "      <th>Unnamed: 0</th>\n",
              "      <th>airline</th>\n",
              "      <th>flight</th>\n",
              "      <th>source_city</th>\n",
              "      <th>departure_time</th>\n",
              "      <th>stops</th>\n",
              "      <th>arrival_time</th>\n",
              "      <th>destination_city</th>\n",
              "      <th>class</th>\n",
              "      <th>duration</th>\n",
              "      <th>days_left</th>\n",
              "      <th>price</th>\n",
              "    </tr>\n",
              "  </thead>\n",
              "  <tbody>\n",
              "    <tr>\n",
              "      <th>300148</th>\n",
              "      <td>300148</td>\n",
              "      <td>Vistara</td>\n",
              "      <td>UK-822</td>\n",
              "      <td>Chennai</td>\n",
              "      <td>Morning</td>\n",
              "      <td>one</td>\n",
              "      <td>Evening</td>\n",
              "      <td>Hyderabad</td>\n",
              "      <td>Business</td>\n",
              "      <td>10.08</td>\n",
              "      <td>49</td>\n",
              "      <td>69265</td>\n",
              "    </tr>\n",
              "    <tr>\n",
              "      <th>300149</th>\n",
              "      <td>300149</td>\n",
              "      <td>Vistara</td>\n",
              "      <td>UK-826</td>\n",
              "      <td>Chennai</td>\n",
              "      <td>Afternoon</td>\n",
              "      <td>one</td>\n",
              "      <td>Night</td>\n",
              "      <td>Hyderabad</td>\n",
              "      <td>Business</td>\n",
              "      <td>10.42</td>\n",
              "      <td>49</td>\n",
              "      <td>77105</td>\n",
              "    </tr>\n",
              "    <tr>\n",
              "      <th>300150</th>\n",
              "      <td>300150</td>\n",
              "      <td>Vistara</td>\n",
              "      <td>UK-832</td>\n",
              "      <td>Chennai</td>\n",
              "      <td>Early_Morning</td>\n",
              "      <td>one</td>\n",
              "      <td>Night</td>\n",
              "      <td>Hyderabad</td>\n",
              "      <td>Business</td>\n",
              "      <td>13.83</td>\n",
              "      <td>49</td>\n",
              "      <td>79099</td>\n",
              "    </tr>\n",
              "    <tr>\n",
              "      <th>300151</th>\n",
              "      <td>300151</td>\n",
              "      <td>Vistara</td>\n",
              "      <td>UK-828</td>\n",
              "      <td>Chennai</td>\n",
              "      <td>Early_Morning</td>\n",
              "      <td>one</td>\n",
              "      <td>Evening</td>\n",
              "      <td>Hyderabad</td>\n",
              "      <td>Business</td>\n",
              "      <td>10.00</td>\n",
              "      <td>49</td>\n",
              "      <td>81585</td>\n",
              "    </tr>\n",
              "    <tr>\n",
              "      <th>300152</th>\n",
              "      <td>300152</td>\n",
              "      <td>Vistara</td>\n",
              "      <td>UK-822</td>\n",
              "      <td>Chennai</td>\n",
              "      <td>Morning</td>\n",
              "      <td>one</td>\n",
              "      <td>Evening</td>\n",
              "      <td>Hyderabad</td>\n",
              "      <td>Business</td>\n",
              "      <td>10.08</td>\n",
              "      <td>49</td>\n",
              "      <td>81585</td>\n",
              "    </tr>\n",
              "  </tbody>\n",
              "</table>\n",
              "</div>"
            ],
            "text/plain": [
              "        Unnamed: 0  airline  flight source_city departure_time stops  \\\n",
              "300148      300148  Vistara  UK-822     Chennai        Morning   one   \n",
              "300149      300149  Vistara  UK-826     Chennai      Afternoon   one   \n",
              "300150      300150  Vistara  UK-832     Chennai  Early_Morning   one   \n",
              "300151      300151  Vistara  UK-828     Chennai  Early_Morning   one   \n",
              "300152      300152  Vistara  UK-822     Chennai        Morning   one   \n",
              "\n",
              "       arrival_time destination_city     class  duration  days_left  price  \n",
              "300148      Evening        Hyderabad  Business     10.08         49  69265  \n",
              "300149        Night        Hyderabad  Business     10.42         49  77105  \n",
              "300150        Night        Hyderabad  Business     13.83         49  79099  \n",
              "300151      Evening        Hyderabad  Business     10.00         49  81585  \n",
              "300152      Evening        Hyderabad  Business     10.08         49  81585  "
            ]
          },
          "execution_count": 7,
          "metadata": {},
          "output_type": "execute_result"
        }
      ],
      "source": [
        "data.tail()"
      ]
    },
    {
      "cell_type": "code",
      "execution_count": 8,
      "metadata": {
        "colab": {
          "base_uri": "https://localhost:8080/"
        },
        "id": "K9w1K25FBXxi",
        "outputId": "da1bc201-27e3-4b13-be08-ec815f700cc9"
      },
      "outputs": [
        {
          "name": "stdout",
          "output_type": "stream",
          "text": [
            "<class 'pandas.core.frame.DataFrame'>\n",
            "RangeIndex: 300153 entries, 0 to 300152\n",
            "Data columns (total 12 columns):\n",
            " #   Column            Non-Null Count   Dtype  \n",
            "---  ------            --------------   -----  \n",
            " 0   Unnamed: 0        300153 non-null  int64  \n",
            " 1   airline           300153 non-null  object \n",
            " 2   flight            300153 non-null  object \n",
            " 3   source_city       300153 non-null  object \n",
            " 4   departure_time    300153 non-null  object \n",
            " 5   stops             300153 non-null  object \n",
            " 6   arrival_time      300153 non-null  object \n",
            " 7   destination_city  300153 non-null  object \n",
            " 8   class             300153 non-null  object \n",
            " 9   duration          300153 non-null  float64\n",
            " 10  days_left         300153 non-null  int64  \n",
            " 11  price             300153 non-null  int64  \n",
            "dtypes: float64(1), int64(3), object(8)\n",
            "memory usage: 27.5+ MB\n"
          ]
        }
      ],
      "source": [
        "data.info()"
      ]
    },
    {
      "cell_type": "markdown",
      "metadata": {
        "id": "GoPw1czZJWBw"
      },
      "source": [
        "We can see that the dataset consists of 12 columns, with 4 columns being of numerical type and 8 columns being categorical."
      ]
    },
    {
      "cell_type": "markdown",
      "metadata": {
        "id": "zs2qyl4kJkI4"
      },
      "source": [
        "The 'Unnamed: 0' column contains the same values as the index, so it can be dropped."
      ]
    },
    {
      "cell_type": "code",
      "execution_count": 9,
      "metadata": {
        "id": "I80CiwLFJqy7"
      },
      "outputs": [],
      "source": [
        "data.drop(columns=['Unnamed: 0'], inplace=True)"
      ]
    },
    {
      "cell_type": "markdown",
      "metadata": {
        "id": "VtYsQZK9sIOY"
      },
      "source": [
        "# iv. Exploratory Data Analysis (EDA)"
      ]
    },
    {
      "cell_type": "markdown",
      "metadata": {
        "id": "kLVIn42WJRAZ"
      },
      "source": [
        "## Airline"
      ]
    },
    {
      "cell_type": "code",
      "execution_count": 10,
      "metadata": {
        "colab": {
          "base_uri": "https://localhost:8080/",
          "height": 326
        },
        "id": "laRamNT9MVBN",
        "outputId": "174fbdfa-c50f-49e9-9109-3baa98e8608c"
      },
      "outputs": [
        {
          "data": {
            "image/png": "[encoded data removed]",
            "text/plain": [
              "<Figure size 2000x500 with 2 Axes>"
            ]
          },
          "metadata": {},
          "output_type": "display_data"
        }
      ],
      "source": [
        "plt.figure(figsize=(20,5))\n",
        "plt.subplot(1, 2, 1)\n",
        "sns.countplot(x='airline', data=data, palette='viridis')\n",
        "sns.set_theme(style=\"whitegrid\")\n",
        "plt.title('Airline')\n",
        "\n",
        "\n",
        "plt.subplot(1, 2, 2)\n",
        "data['airline'].value_counts().plot(kind='pie', explode=[0.05, 0, 0, 0 ,0 ,0], autopct='%1.1f%%', shadow=True)\n",
        "plt.title('Airline Percentage')\n",
        "\n",
        "plt.show()"
      ]
    },
    {
      "cell_type": "markdown",
      "metadata": {
        "id": "SJvkJmqRT6d0"
      },
      "source": [
        "The visualization above shows that the data involves 6 airline companies, with Vistara being the most frequently used airline, accounting for 42.6% of the entire dataset. On the other hand, SpiceJet is the least utilized airline, representing 3% of the data."
      ]
    },
    {
      "cell_type": "code",
      "execution_count": 11,
      "metadata": {
        "colab": {
          "base_uri": "https://localhost:8080/",
          "height": 356
        },
        "id": "kVeA8PkvOa3I",
        "outputId": "7363a326-ba6e-4527-afa9-9baa22c97f22"
      },
      "outputs": [
        {
          "data": {
            "image/png": "[encoded data removed]",
            "text/plain": [
              "<Figure size 1000x500 with 1 Axes>"
            ]
          },
          "metadata": {},
          "output_type": "display_data"
        }
      ],
      "source": [
        "plt.figure(figsize=(10, 5))\n",
        "sns.barplot(x='airline',y='price',data=data, palette='coolwarm')\n",
        "plt.title('Airline Price')\n",
        "plt.show()"
      ]
    },
    {
      "cell_type": "markdown",
      "metadata": {
        "id": "sP9mb930UiNG"
      },
      "source": [
        "Vistara airline sets the highest average prices compared to other airlines; nevertheless, Vistara remains the most preferred airline in India."
      ]
    },
    {
      "cell_type": "markdown",
      "metadata": {
        "id": "Jb5rHSOxJ_E2"
      },
      "source": [
        "## Source and Destination City"
      ]
    },
    {
      "cell_type": "code",
      "execution_count": 12,
      "metadata": {
        "colab": {
          "base_uri": "https://localhost:8080/",
          "height": 319
        },
        "id": "J8yXUER4RecM",
        "outputId": "fdf2d24d-a773-4f56-d9cc-251c8f1303f9"
      },
      "outputs": [
        {
          "data": {
            "image/png": "[encoded data removed]",
            "text/plain": [
              "<Figure size 1500x500 with 2 Axes>"
            ]
          },
          "metadata": {},
          "output_type": "display_data"
        }
      ],
      "source": [
        "colors = sns.color_palette(\"viridis\", 6)\n",
        "\n",
        "plt.figure(figsize=(15,5))\n",
        "plt.subplot(1, 2, 1)\n",
        "data['source_city'].value_counts().plot(kind='pie', explode=[0.05, 0, 0, 0 ,0 ,0], autopct='%1.1f%%', shadow=True, colors=colors)\n",
        "plt.title('Source City Percentage')\n",
        "\n",
        "plt.subplot(1, 2, 2)\n",
        "data['destination_city'].value_counts().plot(kind='pie', explode=[0.05, 0, 0, 0 ,0 ,0], autopct='%1.1f%%', shadow=True, colors=colors)\n",
        "plt.title('Destination City Percentage')\n",
        "\n",
        "plt.show()"
      ]
    },
    {
      "cell_type": "markdown",
      "metadata": {
        "id": "vktHEC9oU4g6"
      },
      "source": [
        "From the chart above, it is evident that there are 6 common departure and destination cities: Delhi, Mumbai, Bangalore, Chennai, Kolkata, and Hyderabad. Many consumers depart from Delhi, likely because Delhi is the capital of India."
      ]
    },
    {
      "cell_type": "markdown",
      "metadata": {
        "id": "ZLhovuFqKEqr"
      },
      "source": [
        "## Departure and Arrival Time"
      ]
    },
    {
      "cell_type": "code",
      "execution_count": 13,
      "metadata": {
        "colab": {
          "base_uri": "https://localhost:8080/",
          "height": 356
        },
        "id": "Lg1RoGwvSu36",
        "outputId": "d81e0b7e-8be8-42e2-ce0d-69107443569f"
      },
      "outputs": [
        {
          "data": {
            "image/png": "[encoded data removed]",
            "text/plain": [
              "<Figure size 1500x500 with 2 Axes>"
            ]
          },
          "metadata": {},
          "output_type": "display_data"
        }
      ],
      "source": [
        "plt.figure(figsize=(15,5))\n",
        "plt.subplot(1, 2, 1)\n",
        "sns.countplot(x='departure_time', data=data, palette='coolwarm')\n",
        "sns.set_theme(style=\"whitegrid\")\n",
        "plt.title('Departure Time')\n",
        "\n",
        "plt.subplot(1, 2, 2)\n",
        "sns.countplot(x='arrival_time', data=data, palette='coolwarm')\n",
        "sns.set_theme(style=\"whitegrid\")\n",
        "plt.title('Arrival Time')\n",
        "\n",
        "plt.show()"
      ]
    },
    {
      "cell_type": "markdown",
      "metadata": {
        "id": "zbYoFLVTVdLp"
      },
      "source": [
        "Many consumers travel in the morning for departures, and a significant number of flight arrivals by various airlines in India occur in the evening."
      ]
    },
    {
      "cell_type": "markdown",
      "metadata": {
        "id": "oeo0vRWsKGus"
      },
      "source": [
        "## Stops"
      ]
    },
    {
      "cell_type": "code",
      "execution_count": 14,
      "metadata": {
        "colab": {
          "base_uri": "https://localhost:8080/",
          "height": 301
        },
        "id": "h_A6VkflcacK",
        "outputId": "e6668baf-d385-4d44-c47b-02e35c681f87"
      },
      "outputs": [
        {
          "data": {
            "image/png": "[encoded data removed]",
            "text/plain": [
              "<Figure size 1000x500 with 1 Axes>"
            ]
          },
          "metadata": {},
          "output_type": "display_data"
        }
      ],
      "source": [
        "colors = sns.color_palette(\"viridis\", 5)\n",
        "\n",
        "plt.figure(figsize=(10,5))\n",
        "plt.subplot(1, 2, 1)\n",
        "data['stops'].value_counts().plot(kind='pie', explode=[0.05, 0, 0], autopct='%1.1f%%', shadow=True, colors=colors)\n",
        "plt.title('Stops Percentage')\n",
        "plt.show()"
      ]
    },
    {
      "cell_type": "markdown",
      "metadata": {
        "id": "l3XjGhiKV3kv"
      },
      "source": [
        "Transits by many flights in India are done once, accounting for 83.6% of the entire dataset, while direct flights make up 12%."
      ]
    },
    {
      "cell_type": "markdown",
      "metadata": {
        "id": "RsGKNQ3mKcJR"
      },
      "source": [
        "## Class"
      ]
    },
    {
      "cell_type": "code",
      "execution_count": 15,
      "metadata": {
        "colab": {
          "base_uri": "https://localhost:8080/",
          "height": 319
        },
        "id": "ZpE7_5BhP_mK",
        "outputId": "a7e3b4f0-bcae-4baf-8ee3-ad0831da944a"
      },
      "outputs": [
        {
          "data": {
            "image/png": "[encoded data removed]",
            "text/plain": [
              "<Figure size 2000x500 with 1 Axes>"
            ]
          },
          "metadata": {},
          "output_type": "display_data"
        }
      ],
      "source": [
        "colors = sns.color_palette(\"husl\", 6)\n",
        "\n",
        "plt.figure(figsize=(20,5))\n",
        "plt.subplot(1, 2, 1)\n",
        "data['class'].value_counts().plot(kind='pie', explode=[0.05, 0], autopct='%1.1f%%', shadow=True, colors=colors)\n",
        "plt.title('Class Percentage')\n",
        "plt.show()"
      ]
    },
    {
      "cell_type": "markdown",
      "metadata": {
        "id": "YtNgMRVZWPoF"
      },
      "source": [
        "It turns out that airlines offer two classes, namely economy and business, with 68.9% of people choosing economy and the remaining 31.1% opting for business class."
      ]
    },
    {
      "cell_type": "code",
      "execution_count": 16,
      "metadata": {
        "colab": {
          "base_uri": "https://localhost:8080/",
          "height": 356
        },
        "id": "wgY3sH7VPG3a",
        "outputId": "2069ecae-8029-4e65-da4c-0ab3765a333f"
      },
      "outputs": [
        {
          "data": {
            "image/png": "[encoded data removed]",
            "text/plain": [
              "<Figure size 1000x500 with 1 Axes>"
            ]
          },
          "metadata": {},
          "output_type": "display_data"
        }
      ],
      "source": [
        "colors = sns.color_palette(\"husl\", 5)\n",
        "\n",
        "plt.figure(figsize=(10, 5))\n",
        "sns.barplot(x='airline',y='price', hue='class' ,data=data, palette=colors)\n",
        "plt.title('Airline Price Per Class')\n",
        "plt.show()"
      ]
    },
    {
      "cell_type": "markdown",
      "metadata": {
        "id": "j24AiQpuWbIk"
      },
      "source": [
        "The chart above indicates that only two airlines, Vistara and Air India, offer a business class, while the other four do not have a business class. It is likely that the presence of a business class in Vistara contributes to its higher average prices. However, the availability of a business class could also be a factor attracting many people to choose Vistara."
      ]
    },
    {
      "cell_type": "markdown",
      "metadata": {
        "id": "u8JYNoROKaZ0"
      },
      "source": [
        "## Duration"
      ]
    },
    {
      "cell_type": "code",
      "execution_count": 17,
      "metadata": {
        "colab": {
          "base_uri": "https://localhost:8080/",
          "height": 373
        },
        "id": "KWoOfrbNgsO_",
        "outputId": "7f1a8cff-531f-4903-8957-d66d1bd572e1"
      },
      "outputs": [
        {
          "data": {
            "image/png": "[encoded data removed]",
            "text/plain": [
              "<Figure size 1000x500 with 1 Axes>"
            ]
          },
          "metadata": {},
          "output_type": "display_data"
        },
        {
          "data": {
            "text/plain": [
              "12.221020812718846"
            ]
          },
          "execution_count": 17,
          "metadata": {},
          "output_type": "execute_result"
        }
      ],
      "source": [
        "plt.figure(figsize=(10,5))\n",
        "sns.histplot(x = 'duration', data = data, kde = True)\n",
        "plt.title('Duration Hist')\n",
        "plt.show()\n",
        "data.duration.mean()"
      ]
    },
    {
      "cell_type": "code",
      "execution_count": 18,
      "metadata": {
        "colab": {
          "base_uri": "https://localhost:8080/"
        },
        "id": "5-mREJbm4mob",
        "outputId": "fcae3e10-439b-49c4-ef67-a6d16ec79c41"
      },
      "outputs": [
        {
          "data": {
            "text/plain": [
              "count    300153.000000\n",
              "mean         12.221021\n",
              "std           7.191997\n",
              "min           0.830000\n",
              "25%           6.830000\n",
              "50%          11.250000\n",
              "75%          16.170000\n",
              "max          49.830000\n",
              "Name: duration, dtype: float64"
            ]
          },
          "execution_count": 18,
          "metadata": {},
          "output_type": "execute_result"
        }
      ],
      "source": [
        "data.duration.describe()"
      ]
    },
    {
      "cell_type": "markdown",
      "metadata": {
        "id": "JuRSEWlXW57H"
      },
      "source": [
        "As seen in the above visualization, there is a diverse range of flight durations, with an average flight time of 12 hours. Although the flights are within cities, many durations exceed 5 hours due to the inclusion of transit times."
      ]
    },
    {
      "cell_type": "markdown",
      "metadata": {
        "id": "K9GTPizPKhYL"
      },
      "source": [
        "## Days Left"
      ]
    },
    {
      "cell_type": "code",
      "execution_count": 19,
      "metadata": {
        "colab": {
          "base_uri": "https://localhost:8080/",
          "height": 373
        },
        "id": "hN--Hv4Fhdyp",
        "outputId": "45537c4e-d323-43c7-9c8f-42afba2325e2"
      },
      "outputs": [
        {
          "data": {
            "image/png": "[encoded data removed]",
            "text/plain": [
              "<Figure size 1000x500 with 1 Axes>"
            ]
          },
          "metadata": {},
          "output_type": "display_data"
        },
        {
          "data": {
            "text/plain": [
              "26.004750910369044"
            ]
          },
          "execution_count": 19,
          "metadata": {},
          "output_type": "execute_result"
        }
      ],
      "source": [
        "plt.figure(figsize=(10,5))\n",
        "sns.histplot(x = 'days_left', data = data, kde = True)\n",
        "plt.title('Days Left Hist')\n",
        "plt.show()\n",
        "data.days_left.mean()"
      ]
    },
    {
      "cell_type": "code",
      "execution_count": 20,
      "metadata": {
        "colab": {
          "base_uri": "https://localhost:8080/"
        },
        "id": "dTCOKDf7dtVl",
        "outputId": "f006708b-59ca-4b2b-a4eb-b6f08ef2d186"
      },
      "outputs": [
        {
          "data": {
            "text/plain": [
              "count    300153.000000\n",
              "mean         26.004751\n",
              "std          13.561004\n",
              "min           1.000000\n",
              "25%          15.000000\n",
              "50%          26.000000\n",
              "75%          38.000000\n",
              "max          49.000000\n",
              "Name: days_left, dtype: float64"
            ]
          },
          "execution_count": 20,
          "metadata": {},
          "output_type": "execute_result"
        }
      ],
      "source": [
        "data.days_left.describe()"
      ]
    },
    {
      "cell_type": "markdown",
      "metadata": {
        "id": "NvyEzTqKXZrK"
      },
      "source": [
        "Days Left represents the time interval between ticket booking and departure, with consumers, on average, booking 26 days prior to departure."
      ]
    },
    {
      "cell_type": "code",
      "execution_count": 21,
      "metadata": {
        "colab": {
          "base_uri": "https://localhost:8080/",
          "height": 355
        },
        "id": "iIv-CS6BlesF",
        "outputId": "34a717df-ca5a-4f74-adfc-f1001544db1c"
      },
      "outputs": [
        {
          "data": {
            "image/png": "[encoded data removed]",
            "text/plain": [
              "<Figure size 1000x500 with 1 Axes>"
            ]
          },
          "metadata": {},
          "output_type": "display_data"
        }
      ],
      "source": [
        "dl = data.groupby(['days_left'])['price'].mean().reset_index()\n",
        "\n",
        "plt.figure(figsize=(10,5))\n",
        "sns.scatterplot(x='days_left', y='price', data = dl)\n",
        "plt.title('Days Left Price Mean')\n",
        "plt.show()"
      ]
    },
    {
      "cell_type": "markdown",
      "metadata": {
        "id": "2U4ciZ_QXr7I"
      },
      "source": [
        "The scatterplot above illustrates the influence of the booking period on ticket prices. It can be observed that ticket prices remain relatively lower when consumers book 20-50 days before departure. However, prices tend to surge significantly when booked within 20 days, and interestingly, they drop again one day before departure, possibly due to last-minute discounts to fill remaining seats."
      ]
    },
    {
      "cell_type": "markdown",
      "metadata": {
        "id": "u272t3WpKi52"
      },
      "source": [
        "## Price (Target)"
      ]
    },
    {
      "cell_type": "code",
      "execution_count": 22,
      "metadata": {
        "colab": {
          "base_uri": "https://localhost:8080/",
          "height": 321
        },
        "id": "42WDIl1hLunY",
        "outputId": "a5c79ff0-640f-4685-c9cf-3e8311729663"
      },
      "outputs": [
        {
          "data": {
            "image/png": "[encoded data removed]",
            "text/plain": [
              "<Figure size 2000x500 with 2 Axes>"
            ]
          },
          "metadata": {},
          "output_type": "display_data"
        }
      ],
      "source": [
        "plt.figure(figsize = (20,5))\n",
        "plt.subplot(1,2,1)\n",
        "sns.boxplot(x = 'price', data = data)\n",
        "plt.title('Price Boxplot')\n",
        "\n",
        "plt.subplot(1,2,2)\n",
        "sns.histplot(x = 'price', data = data, kde = True)\n",
        "plt.title('Price Hist')\n",
        "\n",
        "plt.show()"
      ]
    },
    {
      "cell_type": "code",
      "execution_count": 23,
      "metadata": {
        "colab": {
          "base_uri": "https://localhost:8080/"
        },
        "id": "JXWwqB8_YVeR",
        "outputId": "50a25fda-1c2b-4fd9-971a-e5c351adb7bc"
      },
      "outputs": [
        {
          "data": {
            "text/plain": [
              "count    300153.000000\n",
              "mean      20889.660523\n",
              "std       22697.767366\n",
              "min        1105.000000\n",
              "25%        4783.000000\n",
              "50%        7425.000000\n",
              "75%       42521.000000\n",
              "max      123071.000000\n",
              "Name: price, dtype: float64"
            ]
          },
          "execution_count": 23,
          "metadata": {},
          "output_type": "execute_result"
        }
      ],
      "source": [
        "data.price.describe()"
      ]
    },
    {
      "cell_type": "markdown",
      "metadata": {
        "id": "bKAlOY7jYSyp"
      },
      "source": [
        "The distribution of airplane ticket prices in the dataset reveals that the lowest price is 1105 rupees, the highest price is 123071 rupees, and the average price is 20890 rupees."
      ]
    },
    {
      "cell_type": "markdown",
      "metadata": {
        "id": "t_2U0ransIQs"
      },
      "source": [
        "# Data Preprocessing"
      ]
    },
    {
      "cell_type": "markdown",
      "metadata": {
        "id": "VX_9QWYPHt7t"
      },
      "source": [
        "## Get Data Inference"
      ]
    },
    {
      "cell_type": "code",
      "execution_count": 24,
      "metadata": {
        "colab": {
          "base_uri": "https://localhost:8080/",
          "height": 967
        },
        "id": "hH_z2xLFBuah",
        "outputId": "e1158bfc-9090-4598-d64d-713bd465aa86"
      },
      "outputs": [
        {
          "data": {
            "text/html": [
              "<div>\n",
              "<style scoped>\n",
              "    .dataframe tbody tr th:only-of-type {\n",
              "        vertical-align: middle;\n",
              "    }\n",
              "\n",
              "    .dataframe tbody tr th {\n",
              "        vertical-align: top;\n",
              "    }\n",
              "\n",
              "    .dataframe thead th {\n",
              "        text-align: right;\n",
              "    }\n",
              "</style>\n",
              "<table border=\"1\" class=\"dataframe\">\n",
              "  <thead>\n",
              "    <tr style=\"text-align: right;\">\n",
              "      <th></th>\n",
              "      <th>airline</th>\n",
              "      <th>flight</th>\n",
              "      <th>source_city</th>\n",
              "      <th>departure_time</th>\n",
              "      <th>stops</th>\n",
              "      <th>arrival_time</th>\n",
              "      <th>destination_city</th>\n",
              "      <th>class</th>\n",
              "      <th>duration</th>\n",
              "      <th>days_left</th>\n",
              "      <th>price</th>\n",
              "    </tr>\n",
              "  </thead>\n",
              "  <tbody>\n",
              "    <tr>\n",
              "      <th>37442</th>\n",
              "      <td>Vistara</td>\n",
              "      <td>UK-705</td>\n",
              "      <td>Delhi</td>\n",
              "      <td>Early_Morning</td>\n",
              "      <td>two_or_more</td>\n",
              "      <td>Evening</td>\n",
              "      <td>Chennai</td>\n",
              "      <td>Economy</td>\n",
              "      <td>12.42</td>\n",
              "      <td>16</td>\n",
              "      <td>14293</td>\n",
              "    </tr>\n",
              "    <tr>\n",
              "      <th>26706</th>\n",
              "      <td>Vistara</td>\n",
              "      <td>UK-951</td>\n",
              "      <td>Delhi</td>\n",
              "      <td>Afternoon</td>\n",
              "      <td>one</td>\n",
              "      <td>Evening</td>\n",
              "      <td>Kolkata</td>\n",
              "      <td>Economy</td>\n",
              "      <td>26.50</td>\n",
              "      <td>38</td>\n",
              "      <td>6821</td>\n",
              "    </tr>\n",
              "    <tr>\n",
              "      <th>172802</th>\n",
              "      <td>Vistara</td>\n",
              "      <td>UK-878</td>\n",
              "      <td>Hyderabad</td>\n",
              "      <td>Afternoon</td>\n",
              "      <td>one</td>\n",
              "      <td>Evening</td>\n",
              "      <td>Kolkata</td>\n",
              "      <td>Economy</td>\n",
              "      <td>27.92</td>\n",
              "      <td>20</td>\n",
              "      <td>9079</td>\n",
              "    </tr>\n",
              "    <tr>\n",
              "      <th>240001</th>\n",
              "      <td>Vistara</td>\n",
              "      <td>UK-902</td>\n",
              "      <td>Mumbai</td>\n",
              "      <td>Afternoon</td>\n",
              "      <td>one</td>\n",
              "      <td>Morning</td>\n",
              "      <td>Hyderabad</td>\n",
              "      <td>Business</td>\n",
              "      <td>17.92</td>\n",
              "      <td>29</td>\n",
              "      <td>58125</td>\n",
              "    </tr>\n",
              "    <tr>\n",
              "      <th>82508</th>\n",
              "      <td>Air_India</td>\n",
              "      <td>AI-809</td>\n",
              "      <td>Mumbai</td>\n",
              "      <td>Morning</td>\n",
              "      <td>one</td>\n",
              "      <td>Morning</td>\n",
              "      <td>Chennai</td>\n",
              "      <td>Economy</td>\n",
              "      <td>22.92</td>\n",
              "      <td>38</td>\n",
              "      <td>5152</td>\n",
              "    </tr>\n",
              "    <tr>\n",
              "      <th>173133</th>\n",
              "      <td>Indigo</td>\n",
              "      <td>6E-913</td>\n",
              "      <td>Hyderabad</td>\n",
              "      <td>Morning</td>\n",
              "      <td>one</td>\n",
              "      <td>Night</td>\n",
              "      <td>Kolkata</td>\n",
              "      <td>Economy</td>\n",
              "      <td>8.75</td>\n",
              "      <td>23</td>\n",
              "      <td>5750</td>\n",
              "    </tr>\n",
              "    <tr>\n",
              "      <th>46270</th>\n",
              "      <td>Indigo</td>\n",
              "      <td>6E-2047</td>\n",
              "      <td>Mumbai</td>\n",
              "      <td>Early_Morning</td>\n",
              "      <td>zero</td>\n",
              "      <td>Morning</td>\n",
              "      <td>Delhi</td>\n",
              "      <td>Economy</td>\n",
              "      <td>2.25</td>\n",
              "      <td>19</td>\n",
              "      <td>2339</td>\n",
              "    </tr>\n",
              "    <tr>\n",
              "      <th>2118</th>\n",
              "      <td>Indigo</td>\n",
              "      <td>6E-6278</td>\n",
              "      <td>Delhi</td>\n",
              "      <td>Morning</td>\n",
              "      <td>zero</td>\n",
              "      <td>Morning</td>\n",
              "      <td>Mumbai</td>\n",
              "      <td>Economy</td>\n",
              "      <td>2.33</td>\n",
              "      <td>13</td>\n",
              "      <td>5955</td>\n",
              "    </tr>\n",
              "    <tr>\n",
              "      <th>282824</th>\n",
              "      <td>Air_India</td>\n",
              "      <td>AI-543</td>\n",
              "      <td>Hyderabad</td>\n",
              "      <td>Morning</td>\n",
              "      <td>one</td>\n",
              "      <td>Night</td>\n",
              "      <td>Bangalore</td>\n",
              "      <td>Business</td>\n",
              "      <td>10.33</td>\n",
              "      <td>46</td>\n",
              "      <td>56590</td>\n",
              "    </tr>\n",
              "    <tr>\n",
              "      <th>40422</th>\n",
              "      <td>GO_FIRST</td>\n",
              "      <td>G8-423</td>\n",
              "      <td>Delhi</td>\n",
              "      <td>Early_Morning</td>\n",
              "      <td>one</td>\n",
              "      <td>Evening</td>\n",
              "      <td>Chennai</td>\n",
              "      <td>Economy</td>\n",
              "      <td>9.83</td>\n",
              "      <td>34</td>\n",
              "      <td>3475</td>\n",
              "    </tr>\n",
              "    <tr>\n",
              "      <th>151600</th>\n",
              "      <td>Indigo</td>\n",
              "      <td>6E-893</td>\n",
              "      <td>Kolkata</td>\n",
              "      <td>Morning</td>\n",
              "      <td>one</td>\n",
              "      <td>Night</td>\n",
              "      <td>Chennai</td>\n",
              "      <td>Economy</td>\n",
              "      <td>11.00</td>\n",
              "      <td>39</td>\n",
              "      <td>3620</td>\n",
              "    </tr>\n",
              "    <tr>\n",
              "      <th>28930</th>\n",
              "      <td>AirAsia</td>\n",
              "      <td>I5-740</td>\n",
              "      <td>Delhi</td>\n",
              "      <td>Early_Morning</td>\n",
              "      <td>one</td>\n",
              "      <td>Afternoon</td>\n",
              "      <td>Hyderabad</td>\n",
              "      <td>Economy</td>\n",
              "      <td>7.58</td>\n",
              "      <td>3</td>\n",
              "      <td>5953</td>\n",
              "    </tr>\n",
              "    <tr>\n",
              "      <th>6054</th>\n",
              "      <td>Air_India</td>\n",
              "      <td>AI-429</td>\n",
              "      <td>Delhi</td>\n",
              "      <td>Morning</td>\n",
              "      <td>one</td>\n",
              "      <td>Evening</td>\n",
              "      <td>Mumbai</td>\n",
              "      <td>Economy</td>\n",
              "      <td>7.25</td>\n",
              "      <td>31</td>\n",
              "      <td>3855</td>\n",
              "    </tr>\n",
              "    <tr>\n",
              "      <th>189122</th>\n",
              "      <td>AirAsia</td>\n",
              "      <td>I5-1229</td>\n",
              "      <td>Chennai</td>\n",
              "      <td>Evening</td>\n",
              "      <td>one</td>\n",
              "      <td>Night</td>\n",
              "      <td>Mumbai</td>\n",
              "      <td>Economy</td>\n",
              "      <td>4.50</td>\n",
              "      <td>15</td>\n",
              "      <td>5880</td>\n",
              "    </tr>\n",
              "    <tr>\n",
              "      <th>247682</th>\n",
              "      <td>Vistara</td>\n",
              "      <td>UK-850</td>\n",
              "      <td>Bangalore</td>\n",
              "      <td>Evening</td>\n",
              "      <td>one</td>\n",
              "      <td>Morning</td>\n",
              "      <td>Delhi</td>\n",
              "      <td>Business</td>\n",
              "      <td>15.08</td>\n",
              "      <td>37</td>\n",
              "      <td>57081</td>\n",
              "    </tr>\n",
              "    <tr>\n",
              "      <th>181187</th>\n",
              "      <td>Vistara</td>\n",
              "      <td>UK-826</td>\n",
              "      <td>Chennai</td>\n",
              "      <td>Afternoon</td>\n",
              "      <td>one</td>\n",
              "      <td>Night</td>\n",
              "      <td>Delhi</td>\n",
              "      <td>Economy</td>\n",
              "      <td>11.25</td>\n",
              "      <td>8</td>\n",
              "      <td>16140</td>\n",
              "    </tr>\n",
              "    <tr>\n",
              "      <th>200400</th>\n",
              "      <td>Indigo</td>\n",
              "      <td>6E-495</td>\n",
              "      <td>Chennai</td>\n",
              "      <td>Early_Morning</td>\n",
              "      <td>one</td>\n",
              "      <td>Afternoon</td>\n",
              "      <td>Kolkata</td>\n",
              "      <td>Economy</td>\n",
              "      <td>6.75</td>\n",
              "      <td>27</td>\n",
              "      <td>5042</td>\n",
              "    </tr>\n",
              "    <tr>\n",
              "      <th>48889</th>\n",
              "      <td>Indigo</td>\n",
              "      <td>6E-2077</td>\n",
              "      <td>Mumbai</td>\n",
              "      <td>Afternoon</td>\n",
              "      <td>zero</td>\n",
              "      <td>Afternoon</td>\n",
              "      <td>Delhi</td>\n",
              "      <td>Economy</td>\n",
              "      <td>2.17</td>\n",
              "      <td>31</td>\n",
              "      <td>2738</td>\n",
              "    </tr>\n",
              "    <tr>\n",
              "      <th>49447</th>\n",
              "      <td>GO_FIRST</td>\n",
              "      <td>G8-351</td>\n",
              "      <td>Mumbai</td>\n",
              "      <td>Morning</td>\n",
              "      <td>one</td>\n",
              "      <td>Afternoon</td>\n",
              "      <td>Delhi</td>\n",
              "      <td>Economy</td>\n",
              "      <td>6.08</td>\n",
              "      <td>33</td>\n",
              "      <td>7900</td>\n",
              "    </tr>\n",
              "    <tr>\n",
              "      <th>296434</th>\n",
              "      <td>Air_India</td>\n",
              "      <td>AI-538</td>\n",
              "      <td>Chennai</td>\n",
              "      <td>Night</td>\n",
              "      <td>one</td>\n",
              "      <td>Afternoon</td>\n",
              "      <td>Kolkata</td>\n",
              "      <td>Business</td>\n",
              "      <td>18.17</td>\n",
              "      <td>13</td>\n",
              "      <td>55377</td>\n",
              "    </tr>\n",
              "    <tr>\n",
              "      <th>103471</th>\n",
              "      <td>Air_India</td>\n",
              "      <td>AI-505</td>\n",
              "      <td>Bangalore</td>\n",
              "      <td>Morning</td>\n",
              "      <td>two_or_more</td>\n",
              "      <td>Night</td>\n",
              "      <td>Kolkata</td>\n",
              "      <td>Economy</td>\n",
              "      <td>11.92</td>\n",
              "      <td>7</td>\n",
              "      <td>13474</td>\n",
              "    </tr>\n",
              "    <tr>\n",
              "      <th>150633</th>\n",
              "      <td>Vistara</td>\n",
              "      <td>UK-720</td>\n",
              "      <td>Kolkata</td>\n",
              "      <td>Early_Morning</td>\n",
              "      <td>one</td>\n",
              "      <td>Evening</td>\n",
              "      <td>Chennai</td>\n",
              "      <td>Economy</td>\n",
              "      <td>9.17</td>\n",
              "      <td>29</td>\n",
              "      <td>6009</td>\n",
              "    </tr>\n",
              "    <tr>\n",
              "      <th>169686</th>\n",
              "      <td>Indigo</td>\n",
              "      <td>6E-6505</td>\n",
              "      <td>Hyderabad</td>\n",
              "      <td>Night</td>\n",
              "      <td>zero</td>\n",
              "      <td>Night</td>\n",
              "      <td>Bangalore</td>\n",
              "      <td>Economy</td>\n",
              "      <td>1.25</td>\n",
              "      <td>41</td>\n",
              "      <td>1776</td>\n",
              "    </tr>\n",
              "    <tr>\n",
              "      <th>242995</th>\n",
              "      <td>Vistara</td>\n",
              "      <td>UK-986</td>\n",
              "      <td>Mumbai</td>\n",
              "      <td>Night</td>\n",
              "      <td>one</td>\n",
              "      <td>Evening</td>\n",
              "      <td>Chennai</td>\n",
              "      <td>Business</td>\n",
              "      <td>17.58</td>\n",
              "      <td>23</td>\n",
              "      <td>49613</td>\n",
              "    </tr>\n",
              "    <tr>\n",
              "      <th>87811</th>\n",
              "      <td>SpiceJet</td>\n",
              "      <td>SG-768</td>\n",
              "      <td>Bangalore</td>\n",
              "      <td>Afternoon</td>\n",
              "      <td>one</td>\n",
              "      <td>Night</td>\n",
              "      <td>Delhi</td>\n",
              "      <td>Economy</td>\n",
              "      <td>5.50</td>\n",
              "      <td>20</td>\n",
              "      <td>5654</td>\n",
              "    </tr>\n",
              "  </tbody>\n",
              "</table>\n",
              "</div>"
            ],
            "text/plain": [
              "          airline   flight source_city departure_time        stops  \\\n",
              "37442     Vistara   UK-705       Delhi  Early_Morning  two_or_more   \n",
              "26706     Vistara   UK-951       Delhi      Afternoon          one   \n",
              "172802    Vistara   UK-878   Hyderabad      Afternoon          one   \n",
              "240001    Vistara   UK-902      Mumbai      Afternoon          one   \n",
              "82508   Air_India   AI-809      Mumbai        Morning          one   \n",
              "173133     Indigo   6E-913   Hyderabad        Morning          one   \n",
              "46270      Indigo  6E-2047      Mumbai  Early_Morning         zero   \n",
              "2118       Indigo  6E-6278       Delhi        Morning         zero   \n",
              "282824  Air_India   AI-543   Hyderabad        Morning          one   \n",
              "40422    GO_FIRST   G8-423       Delhi  Early_Morning          one   \n",
              "151600     Indigo   6E-893     Kolkata        Morning          one   \n",
              "28930     AirAsia   I5-740       Delhi  Early_Morning          one   \n",
              "6054    Air_India   AI-429       Delhi        Morning          one   \n",
              "189122    AirAsia  I5-1229     Chennai        Evening          one   \n",
              "247682    Vistara   UK-850   Bangalore        Evening          one   \n",
              "181187    Vistara   UK-826     Chennai      Afternoon          one   \n",
              "200400     Indigo   6E-495     Chennai  Early_Morning          one   \n",
              "48889      Indigo  6E-2077      Mumbai      Afternoon         zero   \n",
              "49447    GO_FIRST   G8-351      Mumbai        Morning          one   \n",
              "296434  Air_India   AI-538     Chennai          Night          one   \n",
              "103471  Air_India   AI-505   Bangalore        Morning  two_or_more   \n",
              "150633    Vistara   UK-720     Kolkata  Early_Morning          one   \n",
              "169686     Indigo  6E-6505   Hyderabad          Night         zero   \n",
              "242995    Vistara   UK-986      Mumbai          Night          one   \n",
              "87811    SpiceJet   SG-768   Bangalore      Afternoon          one   \n",
              "\n",
              "       arrival_time destination_city     class  duration  days_left  price  \n",
              "37442       Evening          Chennai   Economy     12.42         16  14293  \n",
              "26706       Evening          Kolkata   Economy     26.50         38   6821  \n",
              "172802      Evening          Kolkata   Economy     27.92         20   9079  \n",
              "240001      Morning        Hyderabad  Business     17.92         29  58125  \n",
              "82508       Morning          Chennai   Economy     22.92         38   5152  \n",
              "173133        Night          Kolkata   Economy      8.75         23   5750  \n",
              "46270       Morning            Delhi   Economy      2.25         19   2339  \n",
              "2118        Morning           Mumbai   Economy      2.33         13   5955  \n",
              "282824        Night        Bangalore  Business     10.33         46  56590  \n",
              "40422       Evening          Chennai   Economy      9.83         34   3475  \n",
              "151600        Night          Chennai   Economy     11.00         39   3620  \n",
              "28930     Afternoon        Hyderabad   Economy      7.58          3   5953  \n",
              "6054        Evening           Mumbai   Economy      7.25         31   3855  \n",
              "189122        Night           Mumbai   Economy      4.50         15   5880  \n",
              "247682      Morning            Delhi  Business     15.08         37  57081  \n",
              "181187        Night            Delhi   Economy     11.25          8  16140  \n",
              "200400    Afternoon          Kolkata   Economy      6.75         27   5042  \n",
              "48889     Afternoon            Delhi   Economy      2.17         31   2738  \n",
              "49447     Afternoon            Delhi   Economy      6.08         33   7900  \n",
              "296434    Afternoon          Kolkata  Business     18.17         13  55377  \n",
              "103471        Night          Kolkata   Economy     11.92          7  13474  \n",
              "150633      Evening          Chennai   Economy      9.17         29   6009  \n",
              "169686        Night        Bangalore   Economy      1.25         41   1776  \n",
              "242995      Evening          Chennai  Business     17.58         23  49613  \n",
              "87811         Night            Delhi   Economy      5.50         20   5654  "
            ]
          },
          "execution_count": 24,
          "metadata": {},
          "output_type": "execute_result"
        }
      ],
      "source": [
        "data_inf = data.sample(25, random_state=7)\n",
        "data_inf"
      ]
    },
    {
      "cell_type": "code",
      "execution_count": 25,
      "metadata": {
        "colab": {
          "base_uri": "https://localhost:8080/",
          "height": 522
        },
        "id": "ffk_sh6Sr7jm",
        "outputId": "6f94f6c2-e11e-4f2e-9d60-529869dfbcc8"
      },
      "outputs": [
        {
          "data": {
            "text/html": [
              "<div>\n",
              "<style scoped>\n",
              "    .dataframe tbody tr th:only-of-type {\n",
              "        vertical-align: middle;\n",
              "    }\n",
              "\n",
              "    .dataframe tbody tr th {\n",
              "        vertical-align: top;\n",
              "    }\n",
              "\n",
              "    .dataframe thead th {\n",
              "        text-align: right;\n",
              "    }\n",
              "</style>\n",
              "<table border=\"1\" class=\"dataframe\">\n",
              "  <thead>\n",
              "    <tr style=\"text-align: right;\">\n",
              "      <th></th>\n",
              "      <th>airline</th>\n",
              "      <th>flight</th>\n",
              "      <th>source_city</th>\n",
              "      <th>departure_time</th>\n",
              "      <th>stops</th>\n",
              "      <th>arrival_time</th>\n",
              "      <th>destination_city</th>\n",
              "      <th>class</th>\n",
              "      <th>duration</th>\n",
              "      <th>days_left</th>\n",
              "      <th>price</th>\n",
              "    </tr>\n",
              "  </thead>\n",
              "  <tbody>\n",
              "    <tr>\n",
              "      <th>0</th>\n",
              "      <td>SpiceJet</td>\n",
              "      <td>SG-8709</td>\n",
              "      <td>Delhi</td>\n",
              "      <td>Evening</td>\n",
              "      <td>zero</td>\n",
              "      <td>Night</td>\n",
              "      <td>Mumbai</td>\n",
              "      <td>Economy</td>\n",
              "      <td>2.17</td>\n",
              "      <td>1</td>\n",
              "      <td>5953</td>\n",
              "    </tr>\n",
              "    <tr>\n",
              "      <th>1</th>\n",
              "      <td>SpiceJet</td>\n",
              "      <td>SG-8157</td>\n",
              "      <td>Delhi</td>\n",
              "      <td>Early_Morning</td>\n",
              "      <td>zero</td>\n",
              "      <td>Morning</td>\n",
              "      <td>Mumbai</td>\n",
              "      <td>Economy</td>\n",
              "      <td>2.33</td>\n",
              "      <td>1</td>\n",
              "      <td>5953</td>\n",
              "    </tr>\n",
              "    <tr>\n",
              "      <th>2</th>\n",
              "      <td>AirAsia</td>\n",
              "      <td>I5-764</td>\n",
              "      <td>Delhi</td>\n",
              "      <td>Early_Morning</td>\n",
              "      <td>zero</td>\n",
              "      <td>Early_Morning</td>\n",
              "      <td>Mumbai</td>\n",
              "      <td>Economy</td>\n",
              "      <td>2.17</td>\n",
              "      <td>1</td>\n",
              "      <td>5956</td>\n",
              "    </tr>\n",
              "    <tr>\n",
              "      <th>3</th>\n",
              "      <td>Vistara</td>\n",
              "      <td>UK-995</td>\n",
              "      <td>Delhi</td>\n",
              "      <td>Morning</td>\n",
              "      <td>zero</td>\n",
              "      <td>Afternoon</td>\n",
              "      <td>Mumbai</td>\n",
              "      <td>Economy</td>\n",
              "      <td>2.25</td>\n",
              "      <td>1</td>\n",
              "      <td>5955</td>\n",
              "    </tr>\n",
              "    <tr>\n",
              "      <th>4</th>\n",
              "      <td>Vistara</td>\n",
              "      <td>UK-963</td>\n",
              "      <td>Delhi</td>\n",
              "      <td>Morning</td>\n",
              "      <td>zero</td>\n",
              "      <td>Morning</td>\n",
              "      <td>Mumbai</td>\n",
              "      <td>Economy</td>\n",
              "      <td>2.33</td>\n",
              "      <td>1</td>\n",
              "      <td>5955</td>\n",
              "    </tr>\n",
              "    <tr>\n",
              "      <th>...</th>\n",
              "      <td>...</td>\n",
              "      <td>...</td>\n",
              "      <td>...</td>\n",
              "      <td>...</td>\n",
              "      <td>...</td>\n",
              "      <td>...</td>\n",
              "      <td>...</td>\n",
              "      <td>...</td>\n",
              "      <td>...</td>\n",
              "      <td>...</td>\n",
              "      <td>...</td>\n",
              "    </tr>\n",
              "    <tr>\n",
              "      <th>300148</th>\n",
              "      <td>Vistara</td>\n",
              "      <td>UK-822</td>\n",
              "      <td>Chennai</td>\n",
              "      <td>Morning</td>\n",
              "      <td>one</td>\n",
              "      <td>Evening</td>\n",
              "      <td>Hyderabad</td>\n",
              "      <td>Business</td>\n",
              "      <td>10.08</td>\n",
              "      <td>49</td>\n",
              "      <td>69265</td>\n",
              "    </tr>\n",
              "    <tr>\n",
              "      <th>300149</th>\n",
              "      <td>Vistara</td>\n",
              "      <td>UK-826</td>\n",
              "      <td>Chennai</td>\n",
              "      <td>Afternoon</td>\n",
              "      <td>one</td>\n",
              "      <td>Night</td>\n",
              "      <td>Hyderabad</td>\n",
              "      <td>Business</td>\n",
              "      <td>10.42</td>\n",
              "      <td>49</td>\n",
              "      <td>77105</td>\n",
              "    </tr>\n",
              "    <tr>\n",
              "      <th>300150</th>\n",
              "      <td>Vistara</td>\n",
              "      <td>UK-832</td>\n",
              "      <td>Chennai</td>\n",
              "      <td>Early_Morning</td>\n",
              "      <td>one</td>\n",
              "      <td>Night</td>\n",
              "      <td>Hyderabad</td>\n",
              "      <td>Business</td>\n",
              "      <td>13.83</td>\n",
              "      <td>49</td>\n",
              "      <td>79099</td>\n",
              "    </tr>\n",
              "    <tr>\n",
              "      <th>300151</th>\n",
              "      <td>Vistara</td>\n",
              "      <td>UK-828</td>\n",
              "      <td>Chennai</td>\n",
              "      <td>Early_Morning</td>\n",
              "      <td>one</td>\n",
              "      <td>Evening</td>\n",
              "      <td>Hyderabad</td>\n",
              "      <td>Business</td>\n",
              "      <td>10.00</td>\n",
              "      <td>49</td>\n",
              "      <td>81585</td>\n",
              "    </tr>\n",
              "    <tr>\n",
              "      <th>300152</th>\n",
              "      <td>Vistara</td>\n",
              "      <td>UK-822</td>\n",
              "      <td>Chennai</td>\n",
              "      <td>Morning</td>\n",
              "      <td>one</td>\n",
              "      <td>Evening</td>\n",
              "      <td>Hyderabad</td>\n",
              "      <td>Business</td>\n",
              "      <td>10.08</td>\n",
              "      <td>49</td>\n",
              "      <td>81585</td>\n",
              "    </tr>\n",
              "  </tbody>\n",
              "</table>\n",
              "<p>300128 rows × 11 columns</p>\n",
              "</div>"
            ],
            "text/plain": [
              "         airline   flight source_city departure_time stops   arrival_time  \\\n",
              "0       SpiceJet  SG-8709       Delhi        Evening  zero          Night   \n",
              "1       SpiceJet  SG-8157       Delhi  Early_Morning  zero        Morning   \n",
              "2        AirAsia   I5-764       Delhi  Early_Morning  zero  Early_Morning   \n",
              "3        Vistara   UK-995       Delhi        Morning  zero      Afternoon   \n",
              "4        Vistara   UK-963       Delhi        Morning  zero        Morning   \n",
              "...          ...      ...         ...            ...   ...            ...   \n",
              "300148   Vistara   UK-822     Chennai        Morning   one        Evening   \n",
              "300149   Vistara   UK-826     Chennai      Afternoon   one          Night   \n",
              "300150   Vistara   UK-832     Chennai  Early_Morning   one          Night   \n",
              "300151   Vistara   UK-828     Chennai  Early_Morning   one        Evening   \n",
              "300152   Vistara   UK-822     Chennai        Morning   one        Evening   \n",
              "\n",
              "       destination_city     class  duration  days_left  price  \n",
              "0                Mumbai   Economy      2.17          1   5953  \n",
              "1                Mumbai   Economy      2.33          1   5953  \n",
              "2                Mumbai   Economy      2.17          1   5956  \n",
              "3                Mumbai   Economy      2.25          1   5955  \n",
              "4                Mumbai   Economy      2.33          1   5955  \n",
              "...                 ...       ...       ...        ...    ...  \n",
              "300148        Hyderabad  Business     10.08         49  69265  \n",
              "300149        Hyderabad  Business     10.42         49  77105  \n",
              "300150        Hyderabad  Business     13.83         49  79099  \n",
              "300151        Hyderabad  Business     10.00         49  81585  \n",
              "300152        Hyderabad  Business     10.08         49  81585  \n",
              "\n",
              "[300128 rows x 11 columns]"
            ]
          },
          "execution_count": 25,
          "metadata": {},
          "output_type": "execute_result"
        }
      ],
      "source": [
        "# Menghapus inference set dari dataset awal\n",
        "\n",
        "data = data.drop(data_inf.index)\n",
        "data"
      ]
    },
    {
      "cell_type": "code",
      "execution_count": 26,
      "metadata": {
        "colab": {
          "base_uri": "https://localhost:8080/",
          "height": 967
        },
        "id": "nWdPhalysPKB",
        "outputId": "3196bb60-5264-4d5e-e6a6-838586693319"
      },
      "outputs": [
        {
          "data": {
            "text/html": [
              "<div>\n",
              "<style scoped>\n",
              "    .dataframe tbody tr th:only-of-type {\n",
              "        vertical-align: middle;\n",
              "    }\n",
              "\n",
              "    .dataframe tbody tr th {\n",
              "        vertical-align: top;\n",
              "    }\n",
              "\n",
              "    .dataframe thead th {\n",
              "        text-align: right;\n",
              "    }\n",
              "</style>\n",
              "<table border=\"1\" class=\"dataframe\">\n",
              "  <thead>\n",
              "    <tr style=\"text-align: right;\">\n",
              "      <th></th>\n",
              "      <th>airline</th>\n",
              "      <th>flight</th>\n",
              "      <th>source_city</th>\n",
              "      <th>departure_time</th>\n",
              "      <th>stops</th>\n",
              "      <th>arrival_time</th>\n",
              "      <th>destination_city</th>\n",
              "      <th>class</th>\n",
              "      <th>duration</th>\n",
              "      <th>days_left</th>\n",
              "      <th>price</th>\n",
              "    </tr>\n",
              "  </thead>\n",
              "  <tbody>\n",
              "    <tr>\n",
              "      <th>0</th>\n",
              "      <td>Vistara</td>\n",
              "      <td>UK-705</td>\n",
              "      <td>Delhi</td>\n",
              "      <td>Early_Morning</td>\n",
              "      <td>two_or_more</td>\n",
              "      <td>Evening</td>\n",
              "      <td>Chennai</td>\n",
              "      <td>Economy</td>\n",
              "      <td>12.42</td>\n",
              "      <td>16</td>\n",
              "      <td>14293</td>\n",
              "    </tr>\n",
              "    <tr>\n",
              "      <th>1</th>\n",
              "      <td>Vistara</td>\n",
              "      <td>UK-951</td>\n",
              "      <td>Delhi</td>\n",
              "      <td>Afternoon</td>\n",
              "      <td>one</td>\n",
              "      <td>Evening</td>\n",
              "      <td>Kolkata</td>\n",
              "      <td>Economy</td>\n",
              "      <td>26.50</td>\n",
              "      <td>38</td>\n",
              "      <td>6821</td>\n",
              "    </tr>\n",
              "    <tr>\n",
              "      <th>2</th>\n",
              "      <td>Vistara</td>\n",
              "      <td>UK-878</td>\n",
              "      <td>Hyderabad</td>\n",
              "      <td>Afternoon</td>\n",
              "      <td>one</td>\n",
              "      <td>Evening</td>\n",
              "      <td>Kolkata</td>\n",
              "      <td>Economy</td>\n",
              "      <td>27.92</td>\n",
              "      <td>20</td>\n",
              "      <td>9079</td>\n",
              "    </tr>\n",
              "    <tr>\n",
              "      <th>3</th>\n",
              "      <td>Vistara</td>\n",
              "      <td>UK-902</td>\n",
              "      <td>Mumbai</td>\n",
              "      <td>Afternoon</td>\n",
              "      <td>one</td>\n",
              "      <td>Morning</td>\n",
              "      <td>Hyderabad</td>\n",
              "      <td>Business</td>\n",
              "      <td>17.92</td>\n",
              "      <td>29</td>\n",
              "      <td>58125</td>\n",
              "    </tr>\n",
              "    <tr>\n",
              "      <th>4</th>\n",
              "      <td>Air_India</td>\n",
              "      <td>AI-809</td>\n",
              "      <td>Mumbai</td>\n",
              "      <td>Morning</td>\n",
              "      <td>one</td>\n",
              "      <td>Morning</td>\n",
              "      <td>Chennai</td>\n",
              "      <td>Economy</td>\n",
              "      <td>22.92</td>\n",
              "      <td>38</td>\n",
              "      <td>5152</td>\n",
              "    </tr>\n",
              "    <tr>\n",
              "      <th>5</th>\n",
              "      <td>Indigo</td>\n",
              "      <td>6E-913</td>\n",
              "      <td>Hyderabad</td>\n",
              "      <td>Morning</td>\n",
              "      <td>one</td>\n",
              "      <td>Night</td>\n",
              "      <td>Kolkata</td>\n",
              "      <td>Economy</td>\n",
              "      <td>8.75</td>\n",
              "      <td>23</td>\n",
              "      <td>5750</td>\n",
              "    </tr>\n",
              "    <tr>\n",
              "      <th>6</th>\n",
              "      <td>Indigo</td>\n",
              "      <td>6E-2047</td>\n",
              "      <td>Mumbai</td>\n",
              "      <td>Early_Morning</td>\n",
              "      <td>zero</td>\n",
              "      <td>Morning</td>\n",
              "      <td>Delhi</td>\n",
              "      <td>Economy</td>\n",
              "      <td>2.25</td>\n",
              "      <td>19</td>\n",
              "      <td>2339</td>\n",
              "    </tr>\n",
              "    <tr>\n",
              "      <th>7</th>\n",
              "      <td>Indigo</td>\n",
              "      <td>6E-6278</td>\n",
              "      <td>Delhi</td>\n",
              "      <td>Morning</td>\n",
              "      <td>zero</td>\n",
              "      <td>Morning</td>\n",
              "      <td>Mumbai</td>\n",
              "      <td>Economy</td>\n",
              "      <td>2.33</td>\n",
              "      <td>13</td>\n",
              "      <td>5955</td>\n",
              "    </tr>\n",
              "    <tr>\n",
              "      <th>8</th>\n",
              "      <td>Air_India</td>\n",
              "      <td>AI-543</td>\n",
              "      <td>Hyderabad</td>\n",
              "      <td>Morning</td>\n",
              "      <td>one</td>\n",
              "      <td>Night</td>\n",
              "      <td>Bangalore</td>\n",
              "      <td>Business</td>\n",
              "      <td>10.33</td>\n",
              "      <td>46</td>\n",
              "      <td>56590</td>\n",
              "    </tr>\n",
              "    <tr>\n",
              "      <th>9</th>\n",
              "      <td>GO_FIRST</td>\n",
              "      <td>G8-423</td>\n",
              "      <td>Delhi</td>\n",
              "      <td>Early_Morning</td>\n",
              "      <td>one</td>\n",
              "      <td>Evening</td>\n",
              "      <td>Chennai</td>\n",
              "      <td>Economy</td>\n",
              "      <td>9.83</td>\n",
              "      <td>34</td>\n",
              "      <td>3475</td>\n",
              "    </tr>\n",
              "    <tr>\n",
              "      <th>10</th>\n",
              "      <td>Indigo</td>\n",
              "      <td>6E-893</td>\n",
              "      <td>Kolkata</td>\n",
              "      <td>Morning</td>\n",
              "      <td>one</td>\n",
              "      <td>Night</td>\n",
              "      <td>Chennai</td>\n",
              "      <td>Economy</td>\n",
              "      <td>11.00</td>\n",
              "      <td>39</td>\n",
              "      <td>3620</td>\n",
              "    </tr>\n",
              "    <tr>\n",
              "      <th>11</th>\n",
              "      <td>AirAsia</td>\n",
              "      <td>I5-740</td>\n",
              "      <td>Delhi</td>\n",
              "      <td>Early_Morning</td>\n",
              "      <td>one</td>\n",
              "      <td>Afternoon</td>\n",
              "      <td>Hyderabad</td>\n",
              "      <td>Economy</td>\n",
              "      <td>7.58</td>\n",
              "      <td>3</td>\n",
              "      <td>5953</td>\n",
              "    </tr>\n",
              "    <tr>\n",
              "      <th>12</th>\n",
              "      <td>Air_India</td>\n",
              "      <td>AI-429</td>\n",
              "      <td>Delhi</td>\n",
              "      <td>Morning</td>\n",
              "      <td>one</td>\n",
              "      <td>Evening</td>\n",
              "      <td>Mumbai</td>\n",
              "      <td>Economy</td>\n",
              "      <td>7.25</td>\n",
              "      <td>31</td>\n",
              "      <td>3855</td>\n",
              "    </tr>\n",
              "    <tr>\n",
              "      <th>13</th>\n",
              "      <td>AirAsia</td>\n",
              "      <td>I5-1229</td>\n",
              "      <td>Chennai</td>\n",
              "      <td>Evening</td>\n",
              "      <td>one</td>\n",
              "      <td>Night</td>\n",
              "      <td>Mumbai</td>\n",
              "      <td>Economy</td>\n",
              "      <td>4.50</td>\n",
              "      <td>15</td>\n",
              "      <td>5880</td>\n",
              "    </tr>\n",
              "    <tr>\n",
              "      <th>14</th>\n",
              "      <td>Vistara</td>\n",
              "      <td>UK-850</td>\n",
              "      <td>Bangalore</td>\n",
              "      <td>Evening</td>\n",
              "      <td>one</td>\n",
              "      <td>Morning</td>\n",
              "      <td>Delhi</td>\n",
              "      <td>Business</td>\n",
              "      <td>15.08</td>\n",
              "      <td>37</td>\n",
              "      <td>57081</td>\n",
              "    </tr>\n",
              "    <tr>\n",
              "      <th>15</th>\n",
              "      <td>Vistara</td>\n",
              "      <td>UK-826</td>\n",
              "      <td>Chennai</td>\n",
              "      <td>Afternoon</td>\n",
              "      <td>one</td>\n",
              "      <td>Night</td>\n",
              "      <td>Delhi</td>\n",
              "      <td>Economy</td>\n",
              "      <td>11.25</td>\n",
              "      <td>8</td>\n",
              "      <td>16140</td>\n",
              "    </tr>\n",
              "    <tr>\n",
              "      <th>16</th>\n",
              "      <td>Indigo</td>\n",
              "      <td>6E-495</td>\n",
              "      <td>Chennai</td>\n",
              "      <td>Early_Morning</td>\n",
              "      <td>one</td>\n",
              "      <td>Afternoon</td>\n",
              "      <td>Kolkata</td>\n",
              "      <td>Economy</td>\n",
              "      <td>6.75</td>\n",
              "      <td>27</td>\n",
              "      <td>5042</td>\n",
              "    </tr>\n",
              "    <tr>\n",
              "      <th>17</th>\n",
              "      <td>Indigo</td>\n",
              "      <td>6E-2077</td>\n",
              "      <td>Mumbai</td>\n",
              "      <td>Afternoon</td>\n",
              "      <td>zero</td>\n",
              "      <td>Afternoon</td>\n",
              "      <td>Delhi</td>\n",
              "      <td>Economy</td>\n",
              "      <td>2.17</td>\n",
              "      <td>31</td>\n",
              "      <td>2738</td>\n",
              "    </tr>\n",
              "    <tr>\n",
              "      <th>18</th>\n",
              "      <td>GO_FIRST</td>\n",
              "      <td>G8-351</td>\n",
              "      <td>Mumbai</td>\n",
              "      <td>Morning</td>\n",
              "      <td>one</td>\n",
              "      <td>Afternoon</td>\n",
              "      <td>Delhi</td>\n",
              "      <td>Economy</td>\n",
              "      <td>6.08</td>\n",
              "      <td>33</td>\n",
              "      <td>7900</td>\n",
              "    </tr>\n",
              "    <tr>\n",
              "      <th>19</th>\n",
              "      <td>Air_India</td>\n",
              "      <td>AI-538</td>\n",
              "      <td>Chennai</td>\n",
              "      <td>Night</td>\n",
              "      <td>one</td>\n",
              "      <td>Afternoon</td>\n",
              "      <td>Kolkata</td>\n",
              "      <td>Business</td>\n",
              "      <td>18.17</td>\n",
              "      <td>13</td>\n",
              "      <td>55377</td>\n",
              "    </tr>\n",
              "    <tr>\n",
              "      <th>20</th>\n",
              "      <td>Air_India</td>\n",
              "      <td>AI-505</td>\n",
              "      <td>Bangalore</td>\n",
              "      <td>Morning</td>\n",
              "      <td>two_or_more</td>\n",
              "      <td>Night</td>\n",
              "      <td>Kolkata</td>\n",
              "      <td>Economy</td>\n",
              "      <td>11.92</td>\n",
              "      <td>7</td>\n",
              "      <td>13474</td>\n",
              "    </tr>\n",
              "    <tr>\n",
              "      <th>21</th>\n",
              "      <td>Vistara</td>\n",
              "      <td>UK-720</td>\n",
              "      <td>Kolkata</td>\n",
              "      <td>Early_Morning</td>\n",
              "      <td>one</td>\n",
              "      <td>Evening</td>\n",
              "      <td>Chennai</td>\n",
              "      <td>Economy</td>\n",
              "      <td>9.17</td>\n",
              "      <td>29</td>\n",
              "      <td>6009</td>\n",
              "    </tr>\n",
              "    <tr>\n",
              "      <th>22</th>\n",
              "      <td>Indigo</td>\n",
              "      <td>6E-6505</td>\n",
              "      <td>Hyderabad</td>\n",
              "      <td>Night</td>\n",
              "      <td>zero</td>\n",
              "      <td>Night</td>\n",
              "      <td>Bangalore</td>\n",
              "      <td>Economy</td>\n",
              "      <td>1.25</td>\n",
              "      <td>41</td>\n",
              "      <td>1776</td>\n",
              "    </tr>\n",
              "    <tr>\n",
              "      <th>23</th>\n",
              "      <td>Vistara</td>\n",
              "      <td>UK-986</td>\n",
              "      <td>Mumbai</td>\n",
              "      <td>Night</td>\n",
              "      <td>one</td>\n",
              "      <td>Evening</td>\n",
              "      <td>Chennai</td>\n",
              "      <td>Business</td>\n",
              "      <td>17.58</td>\n",
              "      <td>23</td>\n",
              "      <td>49613</td>\n",
              "    </tr>\n",
              "    <tr>\n",
              "      <th>24</th>\n",
              "      <td>SpiceJet</td>\n",
              "      <td>SG-768</td>\n",
              "      <td>Bangalore</td>\n",
              "      <td>Afternoon</td>\n",
              "      <td>one</td>\n",
              "      <td>Night</td>\n",
              "      <td>Delhi</td>\n",
              "      <td>Economy</td>\n",
              "      <td>5.50</td>\n",
              "      <td>20</td>\n",
              "      <td>5654</td>\n",
              "    </tr>\n",
              "  </tbody>\n",
              "</table>\n",
              "</div>"
            ],
            "text/plain": [
              "      airline   flight source_city departure_time        stops arrival_time  \\\n",
              "0     Vistara   UK-705       Delhi  Early_Morning  two_or_more      Evening   \n",
              "1     Vistara   UK-951       Delhi      Afternoon          one      Evening   \n",
              "2     Vistara   UK-878   Hyderabad      Afternoon          one      Evening   \n",
              "3     Vistara   UK-902      Mumbai      Afternoon          one      Morning   \n",
              "4   Air_India   AI-809      Mumbai        Morning          one      Morning   \n",
              "5      Indigo   6E-913   Hyderabad        Morning          one        Night   \n",
              "6      Indigo  6E-2047      Mumbai  Early_Morning         zero      Morning   \n",
              "7      Indigo  6E-6278       Delhi        Morning         zero      Morning   \n",
              "8   Air_India   AI-543   Hyderabad        Morning          one        Night   \n",
              "9    GO_FIRST   G8-423       Delhi  Early_Morning          one      Evening   \n",
              "10     Indigo   6E-893     Kolkata        Morning          one        Night   \n",
              "11    AirAsia   I5-740       Delhi  Early_Morning          one    Afternoon   \n",
              "12  Air_India   AI-429       Delhi        Morning          one      Evening   \n",
              "13    AirAsia  I5-1229     Chennai        Evening          one        Night   \n",
              "14    Vistara   UK-850   Bangalore        Evening          one      Morning   \n",
              "15    Vistara   UK-826     Chennai      Afternoon          one        Night   \n",
              "16     Indigo   6E-495     Chennai  Early_Morning          one    Afternoon   \n",
              "17     Indigo  6E-2077      Mumbai      Afternoon         zero    Afternoon   \n",
              "18   GO_FIRST   G8-351      Mumbai        Morning          one    Afternoon   \n",
              "19  Air_India   AI-538     Chennai          Night          one    Afternoon   \n",
              "20  Air_India   AI-505   Bangalore        Morning  two_or_more        Night   \n",
              "21    Vistara   UK-720     Kolkata  Early_Morning          one      Evening   \n",
              "22     Indigo  6E-6505   Hyderabad          Night         zero        Night   \n",
              "23    Vistara   UK-986      Mumbai          Night          one      Evening   \n",
              "24   SpiceJet   SG-768   Bangalore      Afternoon          one        Night   \n",
              "\n",
              "   destination_city     class  duration  days_left  price  \n",
              "0           Chennai   Economy     12.42         16  14293  \n",
              "1           Kolkata   Economy     26.50         38   6821  \n",
              "2           Kolkata   Economy     27.92         20   9079  \n",
              "3         Hyderabad  Business     17.92         29  58125  \n",
              "4           Chennai   Economy     22.92         38   5152  \n",
              "5           Kolkata   Economy      8.75         23   5750  \n",
              "6             Delhi   Economy      2.25         19   2339  \n",
              "7            Mumbai   Economy      2.33         13   5955  \n",
              "8         Bangalore  Business     10.33         46  56590  \n",
              "9           Chennai   Economy      9.83         34   3475  \n",
              "10          Chennai   Economy     11.00         39   3620  \n",
              "11        Hyderabad   Economy      7.58          3   5953  \n",
              "12           Mumbai   Economy      7.25         31   3855  \n",
              "13           Mumbai   Economy      4.50         15   5880  \n",
              "14            Delhi  Business     15.08         37  57081  \n",
              "15            Delhi   Economy     11.25          8  16140  \n",
              "16          Kolkata   Economy      6.75         27   5042  \n",
              "17            Delhi   Economy      2.17         31   2738  \n",
              "18            Delhi   Economy      6.08         33   7900  \n",
              "19          Kolkata  Business     18.17         13  55377  \n",
              "20          Kolkata   Economy     11.92          7  13474  \n",
              "21          Chennai   Economy      9.17         29   6009  \n",
              "22        Bangalore   Economy      1.25         41   1776  \n",
              "23          Chennai  Business     17.58         23  49613  \n",
              "24            Delhi   Economy      5.50         20   5654  "
            ]
          },
          "execution_count": 26,
          "metadata": {},
          "output_type": "execute_result"
        }
      ],
      "source": [
        "# Reset index pada data Inference\n",
        "\n",
        "data_inf.reset_index(drop=True, inplace=True)\n",
        "data_inf"
      ]
    },
    {
      "cell_type": "markdown",
      "metadata": {
        "id": "nFAbVuMlvWTi"
      },
      "source": [
        "## Split Between Train and Test"
      ]
    },
    {
      "cell_type": "code",
      "execution_count": 27,
      "metadata": {
        "id": "mUFv_bELvVdq"
      },
      "outputs": [],
      "source": [
        "# Splitting between `X` (Features) and `y` (Targets)\n",
        "\n",
        "X = data.drop('price', axis=1)\n",
        "y = data['price']"
      ]
    },
    {
      "cell_type": "code",
      "execution_count": 28,
      "metadata": {
        "colab": {
          "base_uri": "https://localhost:8080/"
        },
        "id": "jvkMB-bRvZhk",
        "outputId": "93c751a5-fe32-4121-ebd4-23b45d41d5cf"
      },
      "outputs": [
        {
          "name": "stdout",
          "output_type": "stream",
          "text": [
            "Train Size :  (240102, 10)\n",
            "Test Size :  (60026, 10)\n"
          ]
        }
      ],
      "source": [
        "X_train, X_test, y_train, y_test = train_test_split(X, y, test_size=0.2, random_state=7)\n",
        "\n",
        "print(\"Train Size : \", X_train.shape)\n",
        "print(\"Test Size : \", X_test.shape)"
      ]
    },
    {
      "cell_type": "markdown",
      "metadata": {
        "id": "1D4kR7UAvkLE"
      },
      "source": [
        "## Handling Missing Values"
      ]
    },
    {
      "cell_type": "markdown",
      "metadata": {
        "id": "QqLG5nNAZPBI"
      },
      "source": [
        "Checking for missing values in the Train and Test Sets."
      ]
    },
    {
      "cell_type": "markdown",
      "metadata": {
        "id": "1wdOaJTJvpDk"
      },
      "source": [
        "### Train Set"
      ]
    },
    {
      "cell_type": "code",
      "execution_count": 29,
      "metadata": {
        "colab": {
          "base_uri": "https://localhost:8080/"
        },
        "id": "2PUv0Jjxvn52",
        "outputId": "9b93cb97-7eec-43b5-f955-84f0fa458b74"
      },
      "outputs": [
        {
          "data": {
            "text/plain": [
              "airline             0\n",
              "flight              0\n",
              "source_city         0\n",
              "departure_time      0\n",
              "stops               0\n",
              "arrival_time        0\n",
              "destination_city    0\n",
              "class               0\n",
              "duration            0\n",
              "days_left           0\n",
              "dtype: int64"
            ]
          },
          "execution_count": 29,
          "metadata": {},
          "output_type": "execute_result"
        }
      ],
      "source": [
        "X_train.isnull().sum()"
      ]
    },
    {
      "cell_type": "code",
      "execution_count": 30,
      "metadata": {
        "colab": {
          "base_uri": "https://localhost:8080/"
        },
        "id": "fMls2mjXvwZn",
        "outputId": "93eb0cff-7787-4cf9-9758-d766d688ad4d"
      },
      "outputs": [
        {
          "data": {
            "text/plain": [
              "0"
            ]
          },
          "execution_count": 30,
          "metadata": {},
          "output_type": "execute_result"
        }
      ],
      "source": [
        "y_train.isnull().sum()"
      ]
    },
    {
      "cell_type": "markdown",
      "metadata": {
        "id": "h9rhjLs9vzAz"
      },
      "source": [
        "There are no missing values in the train set."
      ]
    },
    {
      "cell_type": "markdown",
      "metadata": {
        "id": "TXo8IqtGv49T"
      },
      "source": [
        "### Test Set"
      ]
    },
    {
      "cell_type": "code",
      "execution_count": 31,
      "metadata": {
        "colab": {
          "base_uri": "https://localhost:8080/"
        },
        "id": "MNoKCh1_v8rC",
        "outputId": "213e93d6-07a2-46a6-c970-b26170a05921"
      },
      "outputs": [
        {
          "data": {
            "text/plain": [
              "airline             0\n",
              "flight              0\n",
              "source_city         0\n",
              "departure_time      0\n",
              "stops               0\n",
              "arrival_time        0\n",
              "destination_city    0\n",
              "class               0\n",
              "duration            0\n",
              "days_left           0\n",
              "dtype: int64"
            ]
          },
          "execution_count": 31,
          "metadata": {},
          "output_type": "execute_result"
        }
      ],
      "source": [
        "X_test.isnull().sum()"
      ]
    },
    {
      "cell_type": "code",
      "execution_count": 32,
      "metadata": {
        "colab": {
          "base_uri": "https://localhost:8080/"
        },
        "id": "CRUXHWpyv99E",
        "outputId": "582f0964-2b0d-4e3c-96bf-213796fa7ca1"
      },
      "outputs": [
        {
          "data": {
            "text/plain": [
              "0"
            ]
          },
          "execution_count": 32,
          "metadata": {},
          "output_type": "execute_result"
        }
      ],
      "source": [
        "y_test.isnull().sum()"
      ]
    },
    {
      "cell_type": "markdown",
      "metadata": {
        "id": "b9QcTQu1wCgv"
      },
      "source": [
        "The test set also does not have any missing values in any of its columns."
      ]
    },
    {
      "cell_type": "markdown",
      "metadata": {
        "id": "yK6A4jvowJu-"
      },
      "source": [
        "## Handling Outliers"
      ]
    },
    {
      "cell_type": "markdown",
      "metadata": {
        "id": "0zXTaNfH1Uz1"
      },
      "source": [
        "Checking the data distribution to determine the method for handling outliers."
      ]
    },
    {
      "cell_type": "code",
      "execution_count": 33,
      "metadata": {
        "colab": {
          "base_uri": "https://localhost:8080/",
          "height": 339
        },
        "id": "j0OviU2GwLqr",
        "outputId": "a6c95969-ab36-46c7-93e0-fe9c4b5e3c77"
      },
      "outputs": [
        {
          "data": {
            "image/png": "[encoded data removed]",
            "text/plain": [
              "<Figure size 1500x500 with 2 Axes>"
            ]
          },
          "metadata": {},
          "output_type": "display_data"
        }
      ],
      "source": [
        "plt.figure(figsize=(15, 5))\n",
        "num_cols = X_train.select_dtypes(include=np.number).columns.tolist()\n",
        "for i in X_train[num_cols]:\n",
        "    plt.subplot(1, 3, X_train[num_cols].columns.get_loc(i) + 1)\n",
        "    sns.boxplot(x=i, data=X_train[num_cols])\n",
        "plt.show()"
      ]
    },
    {
      "cell_type": "code",
      "execution_count": 34,
      "metadata": {
        "colab": {
          "base_uri": "https://localhost:8080/"
        },
        "id": "o9fbOmRh1eYn",
        "outputId": "e3dcc963-39ff-48d5-ff7b-ad9be182a347"
      },
      "outputs": [
        {
          "data": {
            "text/plain": [
              "0.6024758517836868"
            ]
          },
          "execution_count": 34,
          "metadata": {},
          "output_type": "execute_result"
        }
      ],
      "source": [
        "X_train['duration'].skew()"
      ]
    },
    {
      "cell_type": "markdown",
      "metadata": {
        "id": "7k5MCe4q1bPS"
      },
      "source": [
        "The 'duration' column has some outliers, and its distribution is skewed. Therefore, we will check the number of outliers using the Interquartile Range (IQR) method.\n"
      ]
    },
    {
      "cell_type": "code",
      "execution_count": 35,
      "metadata": {
        "id": "Ug7gBU1G0QP1"
      },
      "outputs": [],
      "source": [
        "def find_skewed_boundaries(df, variable, distance): # untuk distribusi skewed\n",
        "    IQR = df[variable].quantile(0.75) - df[variable].quantile(0.25)\n",
        "\n",
        "    lower_boundary = df[variable].quantile(0.25) - (IQR * distance)\n",
        "    upper_boundary = df[variable].quantile(0.75) + (IQR * distance)\n",
        "\n",
        "    return upper_boundary, lower_boundary"
      ]
    },
    {
      "cell_type": "code",
      "execution_count": 36,
      "metadata": {
        "colab": {
          "base_uri": "https://localhost:8080/"
        },
        "id": "dbT9fCOt0Yuh",
        "outputId": "ad701b5f-b548-4adf-d283-af707338c2d1"
      },
      "outputs": [
        {
          "name": "stdout",
          "output_type": "stream",
          "text": [
            "Jumlah Data Train: 240102\n",
            "Jumlah data di luar upper boundary : 1679\n",
            "Jumlah data di luar lower boundary : 0\n",
            "\n",
            "% upper boundary outliers : 0.6992861367252251\n",
            "% lower boundary outliers  : 0.0\n"
          ]
        }
      ],
      "source": [
        "# Mengecek jumlah outliers capital_gain\n",
        "\n",
        "upper_boundary, lower_boundary = find_skewed_boundaries(X_train, 'duration', 1.5)\n",
        "\n",
        "print('Jumlah Data Train: {}'.format(len(X_train)))\n",
        "print('Jumlah data di luar upper boundary : {}'.format(len(X_train[X_train['duration'] > upper_boundary])))\n",
        "print('Jumlah data di luar lower boundary : {}'.format(len(X_train[X_train['duration'] < lower_boundary])))\n",
        "print('')\n",
        "print('% upper boundary outliers : {}'.format(len(X_train[X_train['duration'] > upper_boundary]) / len(X_train) * 100))\n",
        "print('% lower boundary outliers  : {}'.format(len(X_train[X_train['duration'] < lower_boundary]) / len(X_train) * 100))"
      ]
    },
    {
      "cell_type": "markdown",
      "metadata": {
        "id": "9NDASupxy9ay"
      },
      "source": [
        "The number of outliers is very small, so they will be left as is, as these data points are also important and can influence the pricing."
      ]
    },
    {
      "cell_type": "markdown",
      "metadata": {
        "id": "ujqFCAaheZ7n"
      },
      "source": [
        "## Feature Selection"
      ]
    },
    {
      "cell_type": "code",
      "execution_count": 37,
      "metadata": {
        "colab": {
          "base_uri": "https://localhost:8080/",
          "height": 649
        },
        "id": "FiuJCIjRZh-J",
        "outputId": "e30db9e0-1637-41ac-ed26-9ebad11b516d"
      },
      "outputs": [
        {
          "data": {
            "image/png": "[encoded data removed]",
            "text/plain": [
              "<Figure size 2000x1000 with 2 Axes>"
            ]
          },
          "metadata": {},
          "output_type": "display_data"
        }
      ],
      "source": [
        "# One-hot encode the categorical columns\n",
        "encoded_data = pd.get_dummies(data[['airline','stops', 'source_city', 'class', 'destination_city', 'departure_time', 'arrival_time']])\n",
        "\n",
        "# Concatenate the original dataframe with the one-hot encoded columns\n",
        "combined_data = pd.concat([data, encoded_data], axis=1)\n",
        "\n",
        "# Drop the original categorical columns and any other non-numeric columns\n",
        "columns_to_drop = ['airline','stops', 'source_city', 'class', 'destination_city', 'departure_time', 'arrival_time']\n",
        "combined_data.drop(columns=columns_to_drop, inplace=True)\n",
        "\n",
        "# Further drop any other non-numeric columns\n",
        "non_numeric_cols = combined_data.select_dtypes(exclude=[np.number]).columns\n",
        "combined_data.drop(columns=non_numeric_cols, inplace=True)\n",
        "\n",
        "# Compute the correlation matrix\n",
        "corr1 = combined_data.corr()\n",
        "\n",
        "# Plot the heatmap\n",
        "plt.figure(figsize=(20, 10))\n",
        "sns.heatmap(corr1, annot=True, cmap='coolwarm')\n",
        "plt.title('Correlation Matrix')\n",
        "plt.show()\n",
        "\n",
        "\n"
      ]
    },
    {
      "cell_type": "markdown",
      "metadata": {
        "id": "ktbLk1GqpgtX"
      },
      "source": [
        "Based on the correlation results above and personal judgment, it is observed that all columns in this dataset influence the price except for 'flight'. Therefore, the 'flight' column will be dropped."
      ]
    },
    {
      "cell_type": "code",
      "execution_count": 38,
      "metadata": {
        "colab": {
          "base_uri": "https://localhost:8080/",
          "height": 424
        },
        "id": "kJKiinVVuMdd",
        "outputId": "45c7645e-2775-4c13-d8ec-cb49ceafb665"
      },
      "outputs": [
        {
          "data": {
            "text/html": [
              "<div>\n",
              "<style scoped>\n",
              "    .dataframe tbody tr th:only-of-type {\n",
              "        vertical-align: middle;\n",
              "    }\n",
              "\n",
              "    .dataframe tbody tr th {\n",
              "        vertical-align: top;\n",
              "    }\n",
              "\n",
              "    .dataframe thead th {\n",
              "        text-align: right;\n",
              "    }\n",
              "</style>\n",
              "<table border=\"1\" class=\"dataframe\">\n",
              "  <thead>\n",
              "    <tr style=\"text-align: right;\">\n",
              "      <th></th>\n",
              "      <th>airline</th>\n",
              "      <th>source_city</th>\n",
              "      <th>departure_time</th>\n",
              "      <th>stops</th>\n",
              "      <th>arrival_time</th>\n",
              "      <th>destination_city</th>\n",
              "      <th>class</th>\n",
              "      <th>duration</th>\n",
              "      <th>days_left</th>\n",
              "    </tr>\n",
              "  </thead>\n",
              "  <tbody>\n",
              "    <tr>\n",
              "      <th>22589</th>\n",
              "      <td>Air_India</td>\n",
              "      <td>Delhi</td>\n",
              "      <td>Morning</td>\n",
              "      <td>one</td>\n",
              "      <td>Afternoon</td>\n",
              "      <td>Kolkata</td>\n",
              "      <td>Economy</td>\n",
              "      <td>27.58</td>\n",
              "      <td>16</td>\n",
              "    </tr>\n",
              "    <tr>\n",
              "      <th>50767</th>\n",
              "      <td>SpiceJet</td>\n",
              "      <td>Mumbai</td>\n",
              "      <td>Evening</td>\n",
              "      <td>zero</td>\n",
              "      <td>Night</td>\n",
              "      <td>Delhi</td>\n",
              "      <td>Economy</td>\n",
              "      <td>2.42</td>\n",
              "      <td>40</td>\n",
              "    </tr>\n",
              "    <tr>\n",
              "      <th>164588</th>\n",
              "      <td>GO_FIRST</td>\n",
              "      <td>Hyderabad</td>\n",
              "      <td>Morning</td>\n",
              "      <td>one</td>\n",
              "      <td>Night</td>\n",
              "      <td>Mumbai</td>\n",
              "      <td>Economy</td>\n",
              "      <td>13.25</td>\n",
              "      <td>42</td>\n",
              "    </tr>\n",
              "    <tr>\n",
              "      <th>191441</th>\n",
              "      <td>Vistara</td>\n",
              "      <td>Chennai</td>\n",
              "      <td>Morning</td>\n",
              "      <td>one</td>\n",
              "      <td>Night</td>\n",
              "      <td>Mumbai</td>\n",
              "      <td>Economy</td>\n",
              "      <td>9.33</td>\n",
              "      <td>31</td>\n",
              "    </tr>\n",
              "    <tr>\n",
              "      <th>126250</th>\n",
              "      <td>Air_India</td>\n",
              "      <td>Kolkata</td>\n",
              "      <td>Afternoon</td>\n",
              "      <td>one</td>\n",
              "      <td>Evening</td>\n",
              "      <td>Delhi</td>\n",
              "      <td>Economy</td>\n",
              "      <td>29.17</td>\n",
              "      <td>42</td>\n",
              "    </tr>\n",
              "    <tr>\n",
              "      <th>...</th>\n",
              "      <td>...</td>\n",
              "      <td>...</td>\n",
              "      <td>...</td>\n",
              "      <td>...</td>\n",
              "      <td>...</td>\n",
              "      <td>...</td>\n",
              "      <td>...</td>\n",
              "      <td>...</td>\n",
              "      <td>...</td>\n",
              "    </tr>\n",
              "    <tr>\n",
              "      <th>235095</th>\n",
              "      <td>Air_India</td>\n",
              "      <td>Mumbai</td>\n",
              "      <td>Evening</td>\n",
              "      <td>one</td>\n",
              "      <td>Morning</td>\n",
              "      <td>Kolkata</td>\n",
              "      <td>Business</td>\n",
              "      <td>15.00</td>\n",
              "      <td>14</td>\n",
              "    </tr>\n",
              "    <tr>\n",
              "      <th>10744</th>\n",
              "      <td>AirAsia</td>\n",
              "      <td>Delhi</td>\n",
              "      <td>Morning</td>\n",
              "      <td>zero</td>\n",
              "      <td>Afternoon</td>\n",
              "      <td>Bangalore</td>\n",
              "      <td>Economy</td>\n",
              "      <td>2.83</td>\n",
              "      <td>6</td>\n",
              "    </tr>\n",
              "    <tr>\n",
              "      <th>49698</th>\n",
              "      <td>AirAsia</td>\n",
              "      <td>Mumbai</td>\n",
              "      <td>Afternoon</td>\n",
              "      <td>one</td>\n",
              "      <td>Late_Night</td>\n",
              "      <td>Delhi</td>\n",
              "      <td>Economy</td>\n",
              "      <td>12.25</td>\n",
              "      <td>35</td>\n",
              "    </tr>\n",
              "    <tr>\n",
              "      <th>189655</th>\n",
              "      <td>Vistara</td>\n",
              "      <td>Chennai</td>\n",
              "      <td>Evening</td>\n",
              "      <td>one</td>\n",
              "      <td>Afternoon</td>\n",
              "      <td>Mumbai</td>\n",
              "      <td>Economy</td>\n",
              "      <td>20.83</td>\n",
              "      <td>18</td>\n",
              "    </tr>\n",
              "    <tr>\n",
              "      <th>61624</th>\n",
              "      <td>SpiceJet</td>\n",
              "      <td>Mumbai</td>\n",
              "      <td>Early_Morning</td>\n",
              "      <td>zero</td>\n",
              "      <td>Morning</td>\n",
              "      <td>Kolkata</td>\n",
              "      <td>Economy</td>\n",
              "      <td>2.67</td>\n",
              "      <td>2</td>\n",
              "    </tr>\n",
              "  </tbody>\n",
              "</table>\n",
              "<p>240102 rows × 9 columns</p>\n",
              "</div>"
            ],
            "text/plain": [
              "          airline source_city departure_time stops arrival_time  \\\n",
              "22589   Air_India       Delhi        Morning   one    Afternoon   \n",
              "50767    SpiceJet      Mumbai        Evening  zero        Night   \n",
              "164588   GO_FIRST   Hyderabad        Morning   one        Night   \n",
              "191441    Vistara     Chennai        Morning   one        Night   \n",
              "126250  Air_India     Kolkata      Afternoon   one      Evening   \n",
              "...           ...         ...            ...   ...          ...   \n",
              "235095  Air_India      Mumbai        Evening   one      Morning   \n",
              "10744     AirAsia       Delhi        Morning  zero    Afternoon   \n",
              "49698     AirAsia      Mumbai      Afternoon   one   Late_Night   \n",
              "189655    Vistara     Chennai        Evening   one    Afternoon   \n",
              "61624    SpiceJet      Mumbai  Early_Morning  zero      Morning   \n",
              "\n",
              "       destination_city     class  duration  days_left  \n",
              "22589           Kolkata   Economy     27.58         16  \n",
              "50767             Delhi   Economy      2.42         40  \n",
              "164588           Mumbai   Economy     13.25         42  \n",
              "191441           Mumbai   Economy      9.33         31  \n",
              "126250            Delhi   Economy     29.17         42  \n",
              "...                 ...       ...       ...        ...  \n",
              "235095          Kolkata  Business     15.00         14  \n",
              "10744         Bangalore   Economy      2.83          6  \n",
              "49698             Delhi   Economy     12.25         35  \n",
              "189655           Mumbai   Economy     20.83         18  \n",
              "61624           Kolkata   Economy      2.67          2  \n",
              "\n",
              "[240102 rows x 9 columns]"
            ]
          },
          "execution_count": 38,
          "metadata": {},
          "output_type": "execute_result"
        }
      ],
      "source": [
        "X_train.drop(columns=['flight'], inplace=True)\n",
        "X_test.drop(columns=['flight'], inplace=True)\n",
        "\n",
        "X_train"
      ]
    },
    {
      "cell_type": "markdown",
      "metadata": {
        "id": "EY6oHbP9e9kS"
      },
      "source": [
        "## Split Between Numerical and Categorical Column"
      ]
    },
    {
      "cell_type": "code",
      "execution_count": 39,
      "metadata": {
        "colab": {
          "base_uri": "https://localhost:8080/"
        },
        "id": "copPqjh0ffL1",
        "outputId": "648dcdf4-6e9a-479e-820d-e85176fe2d48"
      },
      "outputs": [
        {
          "name": "stdout",
          "output_type": "stream",
          "text": [
            "Normal Numerical Columns :  ['days_left']\n",
            "Skewed Numerical Columns :  ['duration']\n",
            "Ordinal Categorical Columns :  ['stops', 'class']\n",
            "Categorical Columns :  ['airline', 'source_city', 'departure_time', 'arrival_time', 'destination_city']\n"
          ]
        }
      ],
      "source": [
        "# Mendapatkan list Numerical columns sesuai tiper persebarannya dan Categorical columns\n",
        "\n",
        "num_cols_norm = ['days_left']\n",
        "num_cols_skew = ['duration']\n",
        "cat_cols_oht = ['airline', 'source_city', 'departure_time', 'arrival_time', 'destination_city']\n",
        "cat_cols_ord = ['stops', 'class']\n",
        "\n",
        "print('Normal Numerical Columns : ', num_cols_norm)\n",
        "print('Skewed Numerical Columns : ', num_cols_skew)\n",
        "print('Ordinal Categorical Columns : ', cat_cols_ord)\n",
        "print('Categorical Columns : ', cat_cols_oht)"
      ]
    },
    {
      "cell_type": "markdown",
      "metadata": {
        "id": "JJbLzykChNeA"
      },
      "source": [
        "## v. Feature Engineering"
      ]
    },
    {
      "cell_type": "markdown",
      "metadata": {
        "id": "QgIsolJRh_Uo"
      },
      "source": [
        "Separating Scaling and Encoding according to the distribution type and data type."
      ]
    },
    {
      "cell_type": "code",
      "execution_count": 40,
      "metadata": {
        "id": "RVKzK1LXm0gb"
      },
      "outputs": [],
      "source": [
        "# Numeric Features Scaling\n",
        "num_skew = Pipeline([('scaling', MinMaxScaler())])\n",
        "num_norm = Pipeline([('scaling', StandardScaler())])\n",
        "cat_ord = Pipeline([('encoding', OrdinalEncoder())])\n",
        "cat_oht = Pipeline([('encoding', OneHotEncoder())])\n",
        "\n",
        "# Preprocessing Pipeline\n",
        "preprocess = ColumnTransformer([\n",
        "    ('norm_scale', num_norm, num_cols_norm),\n",
        "    ('skew_scale', num_skew, num_cols_skew),\n",
        "    ('ord_encode', cat_ord, cat_cols_ord),\n",
        "    ('oht_encode', cat_oht, cat_cols_oht)\n",
        "])"
      ]
    },
    {
      "cell_type": "markdown",
      "metadata": {
        "id": "QHsqdlpKsISy"
      },
      "source": [
        "# vi. Model Definition"
      ]
    },
    {
      "cell_type": "code",
      "execution_count": 41,
      "metadata": {
        "id": "EdVv7inEou5k"
      },
      "outputs": [],
      "source": [
        "# SVM Pipeline\n",
        "svm_pipe = Pipeline([('preprocessing', preprocess), ('svm', SVC(kernel='linear', C=1))])\n",
        "\n",
        "#Decision Tree Pipeline\n",
        "dt_pipe = Pipeline([('preprocessing', preprocess), ('dt', DecisionTreeClassifier(max_depth=10))])\n",
        "\n",
        "# Random Forest Pipeline\n",
        "rf_pipe = Pipeline([('preprocessing', preprocess), ('rf', RandomForestClassifier(n_estimators=50, max_depth=10))])\n",
        "\n",
        "# Linear Regression Pipeline\n",
        "log_pipe = Pipeline([('preprocessing', preprocess), ('log', LinearRegression())])\n",
        "\n",
        "\n",
        "# KNN Pipeline\n",
        "knn_pipe = Pipeline([('preprocessing', preprocess), ('knn', KNeighborsClassifier())])\n",
        "\n",
        "\n",
        "# AdaBoost Pipeline\n",
        "ada_pipe = Pipeline([('preprocessing', preprocess), ('ada', AdaBoostRegressor())])"
      ]
    },
    {
      "cell_type": "markdown",
      "metadata": {},
      "source": [
        "Here, only 3 models will be used due to memory constraints and a very long time consumption."
      ]
    },
    {
      "cell_type": "markdown",
      "metadata": {
        "id": "e1VNoERrsIVZ"
      },
      "source": [
        "# vii. Model Training"
      ]
    },
    {
      "cell_type": "code",
      "execution_count": 42,
      "metadata": {
        "colab": {
          "base_uri": "https://localhost:8080/"
        },
        "id": "replSMAytWTv",
        "outputId": "c07477bf-1a76-4ce6-90a5-afd2600472be"
      },
      "outputs": [
        {
          "name": "stdout",
          "output_type": "stream",
          "text": [
            "CPU times: user 866 ms, sys: 114 ms, total: 980 ms\n",
            "Wall time: 886 ms\n",
            "CPU times: user 631 ms, sys: 84.9 ms, total: 716 ms\n",
            "Wall time: 648 ms\n",
            "CPU times: user 9.54 s, sys: 677 ms, total: 10.2 s\n",
            "Wall time: 10.6 s\n"
          ]
        },
        {
          "data": {
            "text/html": [
              "<style>#sk-container-id-1 {color: black;}#sk-container-id-1 pre{padding: 0;}#sk-container-id-1 div.sk-toggleable {background-color: white;}#sk-container-id-1 label.sk-toggleable__label {cursor: pointer;display: block;width: 100%;margin-bottom: 0;padding: 0.3em;box-sizing: border-box;text-align: center;}#sk-container-id-1 label.sk-toggleable__label-arrow:before {content: \"▸\";float: left;margin-right: 0.25em;color: #696969;}#sk-container-id-1 label.sk-toggleable__label-arrow:hover:before {color: black;}#sk-container-id-1 div.sk-estimator:hover label.sk-toggleable__label-arrow:before {color: black;}#sk-container-id-1 div.sk-toggleable__content {max-height: 0;max-width: 0;overflow: hidden;text-align: left;background-color: #f0f8ff;}#sk-container-id-1 div.sk-toggleable__content pre {margin: 0.2em;color: black;border-radius: 0.25em;background-color: #f0f8ff;}#sk-container-id-1 input.sk-toggleable__control:checked~div.sk-toggleable__content {max-height: 200px;max-width: 100%;overflow: auto;}#sk-container-id-1 input.sk-toggleable__control:checked~label.sk-toggleable__label-arrow:before {content: \"▾\";}#sk-container-id-1 div.sk-estimator input.sk-toggleable__control:checked~label.sk-toggleable__label {background-color: #d4ebff;}#sk-container-id-1 div.sk-label input.sk-toggleable__control:checked~label.sk-toggleable__label {background-color: #d4ebff;}#sk-container-id-1 input.sk-hidden--visually {border: 0;clip: rect(1px 1px 1px 1px);clip: rect(1px, 1px, 1px, 1px);height: 1px;margin: -1px;overflow: hidden;padding: 0;position: absolute;width: 1px;}#sk-container-id-1 div.sk-estimator {font-family: monospace;background-color: #f0f8ff;border: 1px dotted black;border-radius: 0.25em;box-sizing: border-box;margin-bottom: 0.5em;}#sk-container-id-1 div.sk-estimator:hover {background-color: #d4ebff;}#sk-container-id-1 div.sk-parallel-item::after {content: \"\";width: 100%;border-bottom: 1px solid gray;flex-grow: 1;}#sk-container-id-1 div.sk-label:hover label.sk-toggleable__label {background-color: #d4ebff;}#sk-container-id-1 div.sk-serial::before {content: \"\";position: absolute;border-left: 1px solid gray;box-sizing: border-box;top: 0;bottom: 0;left: 50%;z-index: 0;}#sk-container-id-1 div.sk-serial {display: flex;flex-direction: column;align-items: center;background-color: white;padding-right: 0.2em;padding-left: 0.2em;position: relative;}#sk-container-id-1 div.sk-item {position: relative;z-index: 1;}#sk-container-id-1 div.sk-parallel {display: flex;align-items: stretch;justify-content: center;background-color: white;position: relative;}#sk-container-id-1 div.sk-item::before, #sk-container-id-1 div.sk-parallel-item::before {content: \"\";position: absolute;border-left: 1px solid gray;box-sizing: border-box;top: 0;bottom: 0;left: 50%;z-index: -1;}#sk-container-id-1 div.sk-parallel-item {display: flex;flex-direction: column;z-index: 1;position: relative;background-color: white;}#sk-container-id-1 div.sk-parallel-item:first-child::after {align-self: flex-end;width: 50%;}#sk-container-id-1 div.sk-parallel-item:last-child::after {align-self: flex-start;width: 50%;}#sk-container-id-1 div.sk-parallel-item:only-child::after {width: 0;}#sk-container-id-1 div.sk-dashed-wrapped {border: 1px dashed gray;margin: 0 0.4em 0.5em 0.4em;box-sizing: border-box;padding-bottom: 0.4em;background-color: white;}#sk-container-id-1 div.sk-label label {font-family: monospace;font-weight: bold;display: inline-block;line-height: 1.2em;}#sk-container-id-1 div.sk-label-container {text-align: center;}#sk-container-id-1 div.sk-container {/* jupyter's `normalize.less` sets `[hidden] { display: none; }` but bootstrap.min.css set `[hidden] { display: none !important; }` so we also need the `!important` here to be able to override the default hidden behavior on the sphinx rendered scikit-learn.org. See: https://github.com/scikit-learn/scikit-learn/issues/21755 */display: inline-block !important;position: relative;}#sk-container-id-1 div.sk-text-repr-fallback {display: none;}</style><div id=\"sk-container-id-1\" class=\"sk-top-container\"><div class=\"sk-text-repr-fallback\"><pre>Pipeline(steps=[(&#x27;preprocessing&#x27;,\n",
              "                 ColumnTransformer(transformers=[(&#x27;norm_scale&#x27;,\n",
              "                                                  Pipeline(steps=[(&#x27;scaling&#x27;,\n",
              "                                                                   StandardScaler())]),\n",
              "                                                  [&#x27;days_left&#x27;]),\n",
              "                                                 (&#x27;skew_scale&#x27;,\n",
              "                                                  Pipeline(steps=[(&#x27;scaling&#x27;,\n",
              "                                                                   MinMaxScaler())]),\n",
              "                                                  [&#x27;duration&#x27;]),\n",
              "                                                 (&#x27;ord_encode&#x27;,\n",
              "                                                  Pipeline(steps=[(&#x27;encoding&#x27;,\n",
              "                                                                   OrdinalEncoder())]),\n",
              "                                                  [&#x27;stops&#x27;, &#x27;class&#x27;]),\n",
              "                                                 (&#x27;oht_encode&#x27;,\n",
              "                                                  Pipeline(steps=[(&#x27;encoding&#x27;,\n",
              "                                                                   OneHotEncoder())]),\n",
              "                                                  [&#x27;airline&#x27;, &#x27;source_city&#x27;,\n",
              "                                                   &#x27;departure_time&#x27;,\n",
              "                                                   &#x27;arrival_time&#x27;,\n",
              "                                                   &#x27;destination_city&#x27;])])),\n",
              "                (&#x27;ada&#x27;, AdaBoostRegressor())])</pre><b>In a Jupyter environment, please rerun this cell to show the HTML representation or trust the notebook. <br />On GitHub, the HTML representation is unable to render, please try loading this page with nbviewer.org.</b></div><div class=\"sk-container\" hidden><div class=\"sk-item sk-dashed-wrapped\"><div class=\"sk-label-container\"><div class=\"sk-label sk-toggleable\"><input class=\"sk-toggleable__control sk-hidden--visually\" id=\"sk-estimator-id-1\" type=\"checkbox\" ><label for=\"sk-estimator-id-1\" class=\"sk-toggleable__label sk-toggleable__label-arrow\">Pipeline</label><div class=\"sk-toggleable__content\"><pre>Pipeline(steps=[(&#x27;preprocessing&#x27;,\n",
              "                 ColumnTransformer(transformers=[(&#x27;norm_scale&#x27;,\n",
              "                                                  Pipeline(steps=[(&#x27;scaling&#x27;,\n",
              "                                                                   StandardScaler())]),\n",
              "                                                  [&#x27;days_left&#x27;]),\n",
              "                                                 (&#x27;skew_scale&#x27;,\n",
              "                                                  Pipeline(steps=[(&#x27;scaling&#x27;,\n",
              "                                                                   MinMaxScaler())]),\n",
              "                                                  [&#x27;duration&#x27;]),\n",
              "                                                 (&#x27;ord_encode&#x27;,\n",
              "                                                  Pipeline(steps=[(&#x27;encoding&#x27;,\n",
              "                                                                   OrdinalEncoder())]),\n",
              "                                                  [&#x27;stops&#x27;, &#x27;class&#x27;]),\n",
              "                                                 (&#x27;oht_encode&#x27;,\n",
              "                                                  Pipeline(steps=[(&#x27;encoding&#x27;,\n",
              "                                                                   OneHotEncoder())]),\n",
              "                                                  [&#x27;airline&#x27;, &#x27;source_city&#x27;,\n",
              "                                                   &#x27;departure_time&#x27;,\n",
              "                                                   &#x27;arrival_time&#x27;,\n",
              "                                                   &#x27;destination_city&#x27;])])),\n",
              "                (&#x27;ada&#x27;, AdaBoostRegressor())])</pre></div></div></div><div class=\"sk-serial\"><div class=\"sk-item sk-dashed-wrapped\"><div class=\"sk-label-container\"><div class=\"sk-label sk-toggleable\"><input class=\"sk-toggleable__control sk-hidden--visually\" id=\"sk-estimator-id-2\" type=\"checkbox\" ><label for=\"sk-estimator-id-2\" class=\"sk-toggleable__label sk-toggleable__label-arrow\">preprocessing: ColumnTransformer</label><div class=\"sk-toggleable__content\"><pre>ColumnTransformer(transformers=[(&#x27;norm_scale&#x27;,\n",
              "                                 Pipeline(steps=[(&#x27;scaling&#x27;,\n",
              "                                                  StandardScaler())]),\n",
              "                                 [&#x27;days_left&#x27;]),\n",
              "                                (&#x27;skew_scale&#x27;,\n",
              "                                 Pipeline(steps=[(&#x27;scaling&#x27;, MinMaxScaler())]),\n",
              "                                 [&#x27;duration&#x27;]),\n",
              "                                (&#x27;ord_encode&#x27;,\n",
              "                                 Pipeline(steps=[(&#x27;encoding&#x27;,\n",
              "                                                  OrdinalEncoder())]),\n",
              "                                 [&#x27;stops&#x27;, &#x27;class&#x27;]),\n",
              "                                (&#x27;oht_encode&#x27;,\n",
              "                                 Pipeline(steps=[(&#x27;encoding&#x27;,\n",
              "                                                  OneHotEncoder())]),\n",
              "                                 [&#x27;airline&#x27;, &#x27;source_city&#x27;, &#x27;departure_time&#x27;,\n",
              "                                  &#x27;arrival_time&#x27;, &#x27;destination_city&#x27;])])</pre></div></div></div><div class=\"sk-parallel\"><div class=\"sk-parallel-item\"><div class=\"sk-item\"><div class=\"sk-label-container\"><div class=\"sk-label sk-toggleable\"><input class=\"sk-toggleable__control sk-hidden--visually\" id=\"sk-estimator-id-3\" type=\"checkbox\" ><label for=\"sk-estimator-id-3\" class=\"sk-toggleable__label sk-toggleable__label-arrow\">norm_scale</label><div class=\"sk-toggleable__content\"><pre>[&#x27;days_left&#x27;]</pre></div></div></div><div class=\"sk-serial\"><div class=\"sk-item\"><div class=\"sk-serial\"><div class=\"sk-item\"><div class=\"sk-estimator sk-toggleable\"><input class=\"sk-toggleable__control sk-hidden--visually\" id=\"sk-estimator-id-4\" type=\"checkbox\" ><label for=\"sk-estimator-id-4\" class=\"sk-toggleable__label sk-toggleable__label-arrow\">StandardScaler</label><div class=\"sk-toggleable__content\"><pre>StandardScaler()</pre></div></div></div></div></div></div></div></div><div class=\"sk-parallel-item\"><div class=\"sk-item\"><div class=\"sk-label-container\"><div class=\"sk-label sk-toggleable\"><input class=\"sk-toggleable__control sk-hidden--visually\" id=\"sk-estimator-id-5\" type=\"checkbox\" ><label for=\"sk-estimator-id-5\" class=\"sk-toggleable__label sk-toggleable__label-arrow\">skew_scale</label><div class=\"sk-toggleable__content\"><pre>[&#x27;duration&#x27;]</pre></div></div></div><div class=\"sk-serial\"><div class=\"sk-item\"><div class=\"sk-serial\"><div class=\"sk-item\"><div class=\"sk-estimator sk-toggleable\"><input class=\"sk-toggleable__control sk-hidden--visually\" id=\"sk-estimator-id-6\" type=\"checkbox\" ><label for=\"sk-estimator-id-6\" class=\"sk-toggleable__label sk-toggleable__label-arrow\">MinMaxScaler</label><div class=\"sk-toggleable__content\"><pre>MinMaxScaler()</pre></div></div></div></div></div></div></div></div><div class=\"sk-parallel-item\"><div class=\"sk-item\"><div class=\"sk-label-container\"><div class=\"sk-label sk-toggleable\"><input class=\"sk-toggleable__control sk-hidden--visually\" id=\"sk-estimator-id-7\" type=\"checkbox\" ><label for=\"sk-estimator-id-7\" class=\"sk-toggleable__label sk-toggleable__label-arrow\">ord_encode</label><div class=\"sk-toggleable__content\"><pre>[&#x27;stops&#x27;, &#x27;class&#x27;]</pre></div></div></div><div class=\"sk-serial\"><div class=\"sk-item\"><div class=\"sk-serial\"><div class=\"sk-item\"><div class=\"sk-estimator sk-toggleable\"><input class=\"sk-toggleable__control sk-hidden--visually\" id=\"sk-estimator-id-8\" type=\"checkbox\" ><label for=\"sk-estimator-id-8\" class=\"sk-toggleable__label sk-toggleable__label-arrow\">OrdinalEncoder</label><div class=\"sk-toggleable__content\"><pre>OrdinalEncoder()</pre></div></div></div></div></div></div></div></div><div class=\"sk-parallel-item\"><div class=\"sk-item\"><div class=\"sk-label-container\"><div class=\"sk-label sk-toggleable\"><input class=\"sk-toggleable__control sk-hidden--visually\" id=\"sk-estimator-id-9\" type=\"checkbox\" ><label for=\"sk-estimator-id-9\" class=\"sk-toggleable__label sk-toggleable__label-arrow\">oht_encode</label><div class=\"sk-toggleable__content\"><pre>[&#x27;airline&#x27;, &#x27;source_city&#x27;, &#x27;departure_time&#x27;, &#x27;arrival_time&#x27;, &#x27;destination_city&#x27;]</pre></div></div></div><div class=\"sk-serial\"><div class=\"sk-item\"><div class=\"sk-serial\"><div class=\"sk-item\"><div class=\"sk-estimator sk-toggleable\"><input class=\"sk-toggleable__control sk-hidden--visually\" id=\"sk-estimator-id-10\" type=\"checkbox\" ><label for=\"sk-estimator-id-10\" class=\"sk-toggleable__label sk-toggleable__label-arrow\">OneHotEncoder</label><div class=\"sk-toggleable__content\"><pre>OneHotEncoder()</pre></div></div></div></div></div></div></div></div></div></div><div class=\"sk-item\"><div class=\"sk-estimator sk-toggleable\"><input class=\"sk-toggleable__control sk-hidden--visually\" id=\"sk-estimator-id-11\" type=\"checkbox\" ><label for=\"sk-estimator-id-11\" class=\"sk-toggleable__label sk-toggleable__label-arrow\">AdaBoostRegressor</label><div class=\"sk-toggleable__content\"><pre>AdaBoostRegressor()</pre></div></div></div></div></div></div></div>"
            ],
            "text/plain": [
              "Pipeline(steps=[('preprocessing',\n",
              "                 ColumnTransformer(transformers=[('norm_scale',\n",
              "                                                  Pipeline(steps=[('scaling',\n",
              "                                                                   StandardScaler())]),\n",
              "                                                  ['days_left']),\n",
              "                                                 ('skew_scale',\n",
              "                                                  Pipeline(steps=[('scaling',\n",
              "                                                                   MinMaxScaler())]),\n",
              "                                                  ['duration']),\n",
              "                                                 ('ord_encode',\n",
              "                                                  Pipeline(steps=[('encoding',\n",
              "                                                                   OrdinalEncoder())]),\n",
              "                                                  ['stops', 'class']),\n",
              "                                                 ('oht_encode',\n",
              "                                                  Pipeline(steps=[('encoding',\n",
              "                                                                   OneHotEncoder())]),\n",
              "                                                  ['airline', 'source_city',\n",
              "                                                   'departure_time',\n",
              "                                                   'arrival_time',\n",
              "                                                   'destination_city'])])),\n",
              "                ('ada', AdaBoostRegressor())])"
            ]
          },
          "execution_count": 42,
          "metadata": {},
          "output_type": "execute_result"
        }
      ],
      "source": [
        "# Training model\n",
        "\n",
        "%time log_pipe.fit(X_train, y_train)\n",
        "%time knn_pipe.fit(X_train, y_train)\n",
        "%time ada_pipe.fit(X_train, y_train)"
      ]
    },
    {
      "cell_type": "markdown",
      "metadata": {
        "id": "ALW9dccTsIXv"
      },
      "source": [
        "# viii. Model Evaluation"
      ]
    },
    {
      "cell_type": "markdown",
      "metadata": {
        "id": "ac8som7_bcP9"
      },
      "source": [
        "## Cross-Val"
      ]
    },
    {
      "cell_type": "markdown",
      "metadata": {
        "id": "vU9DlzEFayxQ"
      },
      "source": [
        "Performing model evaluation using cross-validation scores to find the best model. Here, cross-validation is only conducted on one model due to memory constraints and very long time consumption."
      ]
    },
    {
      "cell_type": "code",
      "execution_count": 42,
      "metadata": {
        "id": "JqD9CmDQ8qSR"
      },
      "outputs": [],
      "source": [
        "\n",
        "scores_ada = cross_val_score(ada_pipe, X_train, y_train, cv=5, scoring='r2')"
      ]
    },
    {
      "cell_type": "code",
      "execution_count": 43,
      "metadata": {
        "colab": {
          "base_uri": "https://localhost:8080/"
        },
        "id": "aIKoOs9X81uA",
        "outputId": "72dbe66d-8a8d-44d5-ec89-70d76544e53d"
      },
      "outputs": [
        {
          "name": "stdout",
          "output_type": "stream",
          "text": [
            "----AdaBoost----\n",
            "AdaBoost Mean : 0.9333136456308603\n",
            "AdaBoost Std : 0.001824797848248196\n"
          ]
        }
      ],
      "source": [
        "\n",
        "print('----AdaBoost----')\n",
        "print(f'AdaBoost Mean : {scores_ada.mean()}')\n",
        "print(f'AdaBoost Std : {scores_ada.std()}')"
      ]
    },
    {
      "cell_type": "markdown",
      "metadata": {
        "id": "BquxAYGza6dt"
      },
      "source": [
        "The cross-validation scores above show that the AdaBoost model achieves a high average R2 score of 0.93 with very low standard deviation. However, further verification will be done to check for overfitting on the train and test sets."
      ]
    },
    {
      "cell_type": "code",
      "execution_count": 44,
      "metadata": {
        "colab": {
          "base_uri": "https://localhost:8080/"
        },
        "id": "RooDzZWJAic-",
        "outputId": "6d0e3189-9203-4f43-c8f2-0e62528e5a3d"
      },
      "outputs": [
        {
          "name": "stdout",
          "output_type": "stream",
          "text": [
            "AdaBoost Model\n",
            "\n",
            "Train-Set Mean Absolute Error (MAE):  4311.606544889889\n",
            "Train-Set R2 Score: 0.9183900945155101\n",
            "\n",
            "Test-Set Mean Absolute Error (MAE):  4356.133307152792\n",
            "Test-Set R2 Score: 0.9165095921031018\n"
          ]
        }
      ],
      "source": [
        "# Model Evaluation Using MAE and R2\n",
        "print('AdaBoost Model')\n",
        "print('')\n",
        "print('Train-Set Mean Absolute Error (MAE): ', mean_absolute_error(y_train, ada_pipe.predict(X_train)))\n",
        "print(f'Train-Set R2 Score: {r2_score(y_train, ada_pipe.predict(X_train))}')\n",
        "print('')\n",
        "print('Test-Set Mean Absolute Error (MAE): ', mean_absolute_error(y_test, ada_pipe.predict(X_test)))\n",
        "print(f'Test-Set R2 Score: {r2_score(y_test, ada_pipe.predict(X_test))}')"
      ]
    },
    {
      "cell_type": "markdown",
      "metadata": {
        "id": "Ceg6puAPbOX7"
      },
      "source": [
        "The baseline AdaBoost model is already considered a good fit and yields a decent score. Therefore, the AdaBoost model will be selected for hyperparameter tuning."
      ]
    },
    {
      "cell_type": "markdown",
      "metadata": {
        "id": "mR0huORXbgOH"
      },
      "source": [
        "## Hyperparameter Tuning"
      ]
    },
    {
      "cell_type": "markdown",
      "metadata": {
        "id": "DMlCP2Qrbiwn"
      },
      "source": [
        "Performing hyperparameter tuning using grid search."
      ]
    },
    {
      "cell_type": "code",
      "execution_count": 45,
      "metadata": {
        "id": "xZIXtGpBC-NP"
      },
      "outputs": [],
      "source": [
        "param_ada = {'ada__n_estimators': [50, 100],\n",
        "             'ada__learning_rate' : [0.1, 0.2]}"
      ]
    },
    {
      "cell_type": "code",
      "execution_count": 46,
      "metadata": {
        "id": "O15GWujmDQtG"
      },
      "outputs": [],
      "source": [
        "grid_ada = GridSearchCV(ada_pipe, param_grid=param_ada, cv=5, n_jobs=-1, return_train_score=True)"
      ]
    },
    {
      "cell_type": "code",
      "execution_count": 47,
      "metadata": {
        "colab": {
          "base_uri": "https://localhost:8080/"
        },
        "id": "zfowsx6gDVYj",
        "outputId": "053f6f51-80cb-4d45-9006-066c84147ee4"
      },
      "outputs": [
        {
          "data": {
            "text/html": [
              "<style>#sk-container-id-2 {color: black;}#sk-container-id-2 pre{padding: 0;}#sk-container-id-2 div.sk-toggleable {background-color: white;}#sk-container-id-2 label.sk-toggleable__label {cursor: pointer;display: block;width: 100%;margin-bottom: 0;padding: 0.3em;box-sizing: border-box;text-align: center;}#sk-container-id-2 label.sk-toggleable__label-arrow:before {content: \"▸\";float: left;margin-right: 0.25em;color: #696969;}#sk-container-id-2 label.sk-toggleable__label-arrow:hover:before {color: black;}#sk-container-id-2 div.sk-estimator:hover label.sk-toggleable__label-arrow:before {color: black;}#sk-container-id-2 div.sk-toggleable__content {max-height: 0;max-width: 0;overflow: hidden;text-align: left;background-color: #f0f8ff;}#sk-container-id-2 div.sk-toggleable__content pre {margin: 0.2em;color: black;border-radius: 0.25em;background-color: #f0f8ff;}#sk-container-id-2 input.sk-toggleable__control:checked~div.sk-toggleable__content {max-height: 200px;max-width: 100%;overflow: auto;}#sk-container-id-2 input.sk-toggleable__control:checked~label.sk-toggleable__label-arrow:before {content: \"▾\";}#sk-container-id-2 div.sk-estimator input.sk-toggleable__control:checked~label.sk-toggleable__label {background-color: #d4ebff;}#sk-container-id-2 div.sk-label input.sk-toggleable__control:checked~label.sk-toggleable__label {background-color: #d4ebff;}#sk-container-id-2 input.sk-hidden--visually {border: 0;clip: rect(1px 1px 1px 1px);clip: rect(1px, 1px, 1px, 1px);height: 1px;margin: -1px;overflow: hidden;padding: 0;position: absolute;width: 1px;}#sk-container-id-2 div.sk-estimator {font-family: monospace;background-color: #f0f8ff;border: 1px dotted black;border-radius: 0.25em;box-sizing: border-box;margin-bottom: 0.5em;}#sk-container-id-2 div.sk-estimator:hover {background-color: #d4ebff;}#sk-container-id-2 div.sk-parallel-item::after {content: \"\";width: 100%;border-bottom: 1px solid gray;flex-grow: 1;}#sk-container-id-2 div.sk-label:hover label.sk-toggleable__label {background-color: #d4ebff;}#sk-container-id-2 div.sk-serial::before {content: \"\";position: absolute;border-left: 1px solid gray;box-sizing: border-box;top: 0;bottom: 0;left: 50%;z-index: 0;}#sk-container-id-2 div.sk-serial {display: flex;flex-direction: column;align-items: center;background-color: white;padding-right: 0.2em;padding-left: 0.2em;position: relative;}#sk-container-id-2 div.sk-item {position: relative;z-index: 1;}#sk-container-id-2 div.sk-parallel {display: flex;align-items: stretch;justify-content: center;background-color: white;position: relative;}#sk-container-id-2 div.sk-item::before, #sk-container-id-2 div.sk-parallel-item::before {content: \"\";position: absolute;border-left: 1px solid gray;box-sizing: border-box;top: 0;bottom: 0;left: 50%;z-index: -1;}#sk-container-id-2 div.sk-parallel-item {display: flex;flex-direction: column;z-index: 1;position: relative;background-color: white;}#sk-container-id-2 div.sk-parallel-item:first-child::after {align-self: flex-end;width: 50%;}#sk-container-id-2 div.sk-parallel-item:last-child::after {align-self: flex-start;width: 50%;}#sk-container-id-2 div.sk-parallel-item:only-child::after {width: 0;}#sk-container-id-2 div.sk-dashed-wrapped {border: 1px dashed gray;margin: 0 0.4em 0.5em 0.4em;box-sizing: border-box;padding-bottom: 0.4em;background-color: white;}#sk-container-id-2 div.sk-label label {font-family: monospace;font-weight: bold;display: inline-block;line-height: 1.2em;}#sk-container-id-2 div.sk-label-container {text-align: center;}#sk-container-id-2 div.sk-container {/* jupyter's `normalize.less` sets `[hidden] { display: none; }` but bootstrap.min.css set `[hidden] { display: none !important; }` so we also need the `!important` here to be able to override the default hidden behavior on the sphinx rendered scikit-learn.org. See: https://github.com/scikit-learn/scikit-learn/issues/21755 */display: inline-block !important;position: relative;}#sk-container-id-2 div.sk-text-repr-fallback {display: none;}</style><div id=\"sk-container-id-2\" class=\"sk-top-container\"><div class=\"sk-text-repr-fallback\"><pre>GridSearchCV(cv=5,\n",
              "             estimator=Pipeline(steps=[(&#x27;preprocessing&#x27;,\n",
              "                                        ColumnTransformer(transformers=[(&#x27;norm_scale&#x27;,\n",
              "                                                                         Pipeline(steps=[(&#x27;scaling&#x27;,\n",
              "                                                                                          StandardScaler())]),\n",
              "                                                                         [&#x27;days_left&#x27;]),\n",
              "                                                                        (&#x27;skew_scale&#x27;,\n",
              "                                                                         Pipeline(steps=[(&#x27;scaling&#x27;,\n",
              "                                                                                          MinMaxScaler())]),\n",
              "                                                                         [&#x27;duration&#x27;]),\n",
              "                                                                        (&#x27;ord_encode&#x27;,\n",
              "                                                                         Pipeline(steps=[(&#x27;encoding&#x27;,\n",
              "                                                                                          OrdinalEncoder())]),\n",
              "                                                                         [&#x27;stops&#x27;,\n",
              "                                                                          &#x27;class&#x27;]),\n",
              "                                                                        (&#x27;oht_encode&#x27;,\n",
              "                                                                         Pipeline(steps=[(&#x27;encoding&#x27;,\n",
              "                                                                                          OneHotEncoder())]),\n",
              "                                                                         [&#x27;airline&#x27;,\n",
              "                                                                          &#x27;source_city&#x27;,\n",
              "                                                                          &#x27;departure_time&#x27;,\n",
              "                                                                          &#x27;arrival_time&#x27;,\n",
              "                                                                          &#x27;destination_city&#x27;])])),\n",
              "                                       (&#x27;ada&#x27;, AdaBoostRegressor())]),\n",
              "             n_jobs=-1,\n",
              "             param_grid={&#x27;ada__learning_rate&#x27;: [0.1, 0.2],\n",
              "                         &#x27;ada__n_estimators&#x27;: [50, 100]},\n",
              "             return_train_score=True)</pre><b>In a Jupyter environment, please rerun this cell to show the HTML representation or trust the notebook. <br />On GitHub, the HTML representation is unable to render, please try loading this page with nbviewer.org.</b></div><div class=\"sk-container\" hidden><div class=\"sk-item sk-dashed-wrapped\"><div class=\"sk-label-container\"><div class=\"sk-label sk-toggleable\"><input class=\"sk-toggleable__control sk-hidden--visually\" id=\"sk-estimator-id-12\" type=\"checkbox\" ><label for=\"sk-estimator-id-12\" class=\"sk-toggleable__label sk-toggleable__label-arrow\">GridSearchCV</label><div class=\"sk-toggleable__content\"><pre>GridSearchCV(cv=5,\n",
              "             estimator=Pipeline(steps=[(&#x27;preprocessing&#x27;,\n",
              "                                        ColumnTransformer(transformers=[(&#x27;norm_scale&#x27;,\n",
              "                                                                         Pipeline(steps=[(&#x27;scaling&#x27;,\n",
              "                                                                                          StandardScaler())]),\n",
              "                                                                         [&#x27;days_left&#x27;]),\n",
              "                                                                        (&#x27;skew_scale&#x27;,\n",
              "                                                                         Pipeline(steps=[(&#x27;scaling&#x27;,\n",
              "                                                                                          MinMaxScaler())]),\n",
              "                                                                         [&#x27;duration&#x27;]),\n",
              "                                                                        (&#x27;ord_encode&#x27;,\n",
              "                                                                         Pipeline(steps=[(&#x27;encoding&#x27;,\n",
              "                                                                                          OrdinalEncoder())]),\n",
              "                                                                         [&#x27;stops&#x27;,\n",
              "                                                                          &#x27;class&#x27;]),\n",
              "                                                                        (&#x27;oht_encode&#x27;,\n",
              "                                                                         Pipeline(steps=[(&#x27;encoding&#x27;,\n",
              "                                                                                          OneHotEncoder())]),\n",
              "                                                                         [&#x27;airline&#x27;,\n",
              "                                                                          &#x27;source_city&#x27;,\n",
              "                                                                          &#x27;departure_time&#x27;,\n",
              "                                                                          &#x27;arrival_time&#x27;,\n",
              "                                                                          &#x27;destination_city&#x27;])])),\n",
              "                                       (&#x27;ada&#x27;, AdaBoostRegressor())]),\n",
              "             n_jobs=-1,\n",
              "             param_grid={&#x27;ada__learning_rate&#x27;: [0.1, 0.2],\n",
              "                         &#x27;ada__n_estimators&#x27;: [50, 100]},\n",
              "             return_train_score=True)</pre></div></div></div><div class=\"sk-parallel\"><div class=\"sk-parallel-item\"><div class=\"sk-item\"><div class=\"sk-label-container\"><div class=\"sk-label sk-toggleable\"><input class=\"sk-toggleable__control sk-hidden--visually\" id=\"sk-estimator-id-13\" type=\"checkbox\" ><label for=\"sk-estimator-id-13\" class=\"sk-toggleable__label sk-toggleable__label-arrow\">estimator: Pipeline</label><div class=\"sk-toggleable__content\"><pre>Pipeline(steps=[(&#x27;preprocessing&#x27;,\n",
              "                 ColumnTransformer(transformers=[(&#x27;norm_scale&#x27;,\n",
              "                                                  Pipeline(steps=[(&#x27;scaling&#x27;,\n",
              "                                                                   StandardScaler())]),\n",
              "                                                  [&#x27;days_left&#x27;]),\n",
              "                                                 (&#x27;skew_scale&#x27;,\n",
              "                                                  Pipeline(steps=[(&#x27;scaling&#x27;,\n",
              "                                                                   MinMaxScaler())]),\n",
              "                                                  [&#x27;duration&#x27;]),\n",
              "                                                 (&#x27;ord_encode&#x27;,\n",
              "                                                  Pipeline(steps=[(&#x27;encoding&#x27;,\n",
              "                                                                   OrdinalEncoder())]),\n",
              "                                                  [&#x27;stops&#x27;, &#x27;class&#x27;]),\n",
              "                                                 (&#x27;oht_encode&#x27;,\n",
              "                                                  Pipeline(steps=[(&#x27;encoding&#x27;,\n",
              "                                                                   OneHotEncoder())]),\n",
              "                                                  [&#x27;airline&#x27;, &#x27;source_city&#x27;,\n",
              "                                                   &#x27;departure_time&#x27;,\n",
              "                                                   &#x27;arrival_time&#x27;,\n",
              "                                                   &#x27;destination_city&#x27;])])),\n",
              "                (&#x27;ada&#x27;, AdaBoostRegressor())])</pre></div></div></div><div class=\"sk-serial\"><div class=\"sk-item\"><div class=\"sk-serial\"><div class=\"sk-item sk-dashed-wrapped\"><div class=\"sk-label-container\"><div class=\"sk-label sk-toggleable\"><input class=\"sk-toggleable__control sk-hidden--visually\" id=\"sk-estimator-id-14\" type=\"checkbox\" ><label for=\"sk-estimator-id-14\" class=\"sk-toggleable__label sk-toggleable__label-arrow\">preprocessing: ColumnTransformer</label><div class=\"sk-toggleable__content\"><pre>ColumnTransformer(transformers=[(&#x27;norm_scale&#x27;,\n",
              "                                 Pipeline(steps=[(&#x27;scaling&#x27;,\n",
              "                                                  StandardScaler())]),\n",
              "                                 [&#x27;days_left&#x27;]),\n",
              "                                (&#x27;skew_scale&#x27;,\n",
              "                                 Pipeline(steps=[(&#x27;scaling&#x27;, MinMaxScaler())]),\n",
              "                                 [&#x27;duration&#x27;]),\n",
              "                                (&#x27;ord_encode&#x27;,\n",
              "                                 Pipeline(steps=[(&#x27;encoding&#x27;,\n",
              "                                                  OrdinalEncoder())]),\n",
              "                                 [&#x27;stops&#x27;, &#x27;class&#x27;]),\n",
              "                                (&#x27;oht_encode&#x27;,\n",
              "                                 Pipeline(steps=[(&#x27;encoding&#x27;,\n",
              "                                                  OneHotEncoder())]),\n",
              "                                 [&#x27;airline&#x27;, &#x27;source_city&#x27;, &#x27;departure_time&#x27;,\n",
              "                                  &#x27;arrival_time&#x27;, &#x27;destination_city&#x27;])])</pre></div></div></div><div class=\"sk-parallel\"><div class=\"sk-parallel-item\"><div class=\"sk-item\"><div class=\"sk-label-container\"><div class=\"sk-label sk-toggleable\"><input class=\"sk-toggleable__control sk-hidden--visually\" id=\"sk-estimator-id-15\" type=\"checkbox\" ><label for=\"sk-estimator-id-15\" class=\"sk-toggleable__label sk-toggleable__label-arrow\">norm_scale</label><div class=\"sk-toggleable__content\"><pre>[&#x27;days_left&#x27;]</pre></div></div></div><div class=\"sk-serial\"><div class=\"sk-item\"><div class=\"sk-serial\"><div class=\"sk-item\"><div class=\"sk-estimator sk-toggleable\"><input class=\"sk-toggleable__control sk-hidden--visually\" id=\"sk-estimator-id-16\" type=\"checkbox\" ><label for=\"sk-estimator-id-16\" class=\"sk-toggleable__label sk-toggleable__label-arrow\">StandardScaler</label><div class=\"sk-toggleable__content\"><pre>StandardScaler()</pre></div></div></div></div></div></div></div></div><div class=\"sk-parallel-item\"><div class=\"sk-item\"><div class=\"sk-label-container\"><div class=\"sk-label sk-toggleable\"><input class=\"sk-toggleable__control sk-hidden--visually\" id=\"sk-estimator-id-17\" type=\"checkbox\" ><label for=\"sk-estimator-id-17\" class=\"sk-toggleable__label sk-toggleable__label-arrow\">skew_scale</label><div class=\"sk-toggleable__content\"><pre>[&#x27;duration&#x27;]</pre></div></div></div><div class=\"sk-serial\"><div class=\"sk-item\"><div class=\"sk-serial\"><div class=\"sk-item\"><div class=\"sk-estimator sk-toggleable\"><input class=\"sk-toggleable__control sk-hidden--visually\" id=\"sk-estimator-id-18\" type=\"checkbox\" ><label for=\"sk-estimator-id-18\" class=\"sk-toggleable__label sk-toggleable__label-arrow\">MinMaxScaler</label><div class=\"sk-toggleable__content\"><pre>MinMaxScaler()</pre></div></div></div></div></div></div></div></div><div class=\"sk-parallel-item\"><div class=\"sk-item\"><div class=\"sk-label-container\"><div class=\"sk-label sk-toggleable\"><input class=\"sk-toggleable__control sk-hidden--visually\" id=\"sk-estimator-id-19\" type=\"checkbox\" ><label for=\"sk-estimator-id-19\" class=\"sk-toggleable__label sk-toggleable__label-arrow\">ord_encode</label><div class=\"sk-toggleable__content\"><pre>[&#x27;stops&#x27;, &#x27;class&#x27;]</pre></div></div></div><div class=\"sk-serial\"><div class=\"sk-item\"><div class=\"sk-serial\"><div class=\"sk-item\"><div class=\"sk-estimator sk-toggleable\"><input class=\"sk-toggleable__control sk-hidden--visually\" id=\"sk-estimator-id-20\" type=\"checkbox\" ><label for=\"sk-estimator-id-20\" class=\"sk-toggleable__label sk-toggleable__label-arrow\">OrdinalEncoder</label><div class=\"sk-toggleable__content\"><pre>OrdinalEncoder()</pre></div></div></div></div></div></div></div></div><div class=\"sk-parallel-item\"><div class=\"sk-item\"><div class=\"sk-label-container\"><div class=\"sk-label sk-toggleable\"><input class=\"sk-toggleable__control sk-hidden--visually\" id=\"sk-estimator-id-21\" type=\"checkbox\" ><label for=\"sk-estimator-id-21\" class=\"sk-toggleable__label sk-toggleable__label-arrow\">oht_encode</label><div class=\"sk-toggleable__content\"><pre>[&#x27;airline&#x27;, &#x27;source_city&#x27;, &#x27;departure_time&#x27;, &#x27;arrival_time&#x27;, &#x27;destination_city&#x27;]</pre></div></div></div><div class=\"sk-serial\"><div class=\"sk-item\"><div class=\"sk-serial\"><div class=\"sk-item\"><div class=\"sk-estimator sk-toggleable\"><input class=\"sk-toggleable__control sk-hidden--visually\" id=\"sk-estimator-id-22\" type=\"checkbox\" ><label for=\"sk-estimator-id-22\" class=\"sk-toggleable__label sk-toggleable__label-arrow\">OneHotEncoder</label><div class=\"sk-toggleable__content\"><pre>OneHotEncoder()</pre></div></div></div></div></div></div></div></div></div></div><div class=\"sk-item\"><div class=\"sk-estimator sk-toggleable\"><input class=\"sk-toggleable__control sk-hidden--visually\" id=\"sk-estimator-id-23\" type=\"checkbox\" ><label for=\"sk-estimator-id-23\" class=\"sk-toggleable__label sk-toggleable__label-arrow\">AdaBoostRegressor</label><div class=\"sk-toggleable__content\"><pre>AdaBoostRegressor()</pre></div></div></div></div></div></div></div></div></div></div></div></div>"
            ],
            "text/plain": [
              "GridSearchCV(cv=5,\n",
              "             estimator=Pipeline(steps=[('preprocessing',\n",
              "                                        ColumnTransformer(transformers=[('norm_scale',\n",
              "                                                                         Pipeline(steps=[('scaling',\n",
              "                                                                                          StandardScaler())]),\n",
              "                                                                         ['days_left']),\n",
              "                                                                        ('skew_scale',\n",
              "                                                                         Pipeline(steps=[('scaling',\n",
              "                                                                                          MinMaxScaler())]),\n",
              "                                                                         ['duration']),\n",
              "                                                                        ('ord_encode',\n",
              "                                                                         Pipeline(steps=[('encoding',\n",
              "                                                                                          OrdinalEncoder())]),\n",
              "                                                                         ['stops',\n",
              "                                                                          'class']),\n",
              "                                                                        ('oht_encode',\n",
              "                                                                         Pipeline(steps=[('encoding',\n",
              "                                                                                          OneHotEncoder())]),\n",
              "                                                                         ['airline',\n",
              "                                                                          'source_city',\n",
              "                                                                          'departure_time',\n",
              "                                                                          'arrival_time',\n",
              "                                                                          'destination_city'])])),\n",
              "                                       ('ada', AdaBoostRegressor())]),\n",
              "             n_jobs=-1,\n",
              "             param_grid={'ada__learning_rate': [0.1, 0.2],\n",
              "                         'ada__n_estimators': [50, 100]},\n",
              "             return_train_score=True)"
            ]
          },
          "execution_count": 47,
          "metadata": {},
          "output_type": "execute_result"
        }
      ],
      "source": [
        "grid_ada.fit(X_train, y_train)"
      ]
    },
    {
      "cell_type": "code",
      "execution_count": 48,
      "metadata": {
        "colab": {
          "base_uri": "https://localhost:8080/"
        },
        "id": "BgWjRUvEDkfP",
        "outputId": "cac0ed03-a00e-4e0d-a46a-dca25629a2f5"
      },
      "outputs": [
        {
          "data": {
            "text/plain": [
              "{'ada__learning_rate': 0.1, 'ada__n_estimators': 100}"
            ]
          },
          "execution_count": 48,
          "metadata": {},
          "output_type": "execute_result"
        }
      ],
      "source": [
        "grid_ada.best_params_"
      ]
    },
    {
      "cell_type": "markdown",
      "metadata": {
        "id": "tDQ_j1RoboIX"
      },
      "source": [
        "The ADA Boost model achieves the highest score using the parameters learning_rate 0.1 and n_estimator 100."
      ]
    },
    {
      "cell_type": "code",
      "execution_count": 49,
      "metadata": {
        "colab": {
          "base_uri": "https://localhost:8080/"
        },
        "id": "v_XAB6u2E7DX",
        "outputId": "3c1184aa-b2e0-4b9a-d3d2-10d12a85db91"
      },
      "outputs": [
        {
          "name": "stdout",
          "output_type": "stream",
          "text": [
            "AdaBoost Model\n",
            "\n",
            "Train-Set Mean Absolute Error (MAE):  3547.5516303308755\n",
            "Train-Set R2 Score: 0.9362562961831183\n",
            "\n",
            "Test-Set Mean Absolute Error (MAE):  3576.4216502404756\n",
            "Test-Set R2 Score: 0.9351189562811085\n"
          ]
        }
      ],
      "source": [
        "# Model Evaluation Using MAE and R2\n",
        "print('AdaBoost Model')\n",
        "print('')\n",
        "print('Train-Set Mean Absolute Error (MAE): ', mean_absolute_error(y_train, grid_ada.best_estimator_.predict(X_train)))\n",
        "print(f'Train-Set R2 Score: {r2_score(y_train, grid_ada.best_estimator_.predict(X_train))}')\n",
        "print('')\n",
        "print('Test-Set Mean Absolute Error (MAE): ', mean_absolute_error(y_test, grid_ada.best_estimator_.predict(X_test)))\n",
        "print(f'Test-Set R2 Score: {r2_score(y_test, grid_ada.best_estimator_.predict(X_test))}')"
      ]
    },
    {
      "cell_type": "markdown",
      "metadata": {
        "id": "rYb1zrLQbyiR"
      },
      "source": [
        "After tuning, the AdaBoost model achieves better MAE and R2 Score values compared to the baseline model. On the training set, it attains an MAE of 3547 and an R2 score of 0.936, while on the test set, it obtains an MAE of 3576 and an R2 score of 0.935, indicating a good fit as the difference in values is not too significant."
      ]
    },
    {
      "cell_type": "markdown",
      "metadata": {
        "id": "Fh3PKH9PsIaH"
      },
      "source": [
        "# x. Model Inference"
      ]
    },
    {
      "cell_type": "code",
      "execution_count": 50,
      "metadata": {
        "colab": {
          "base_uri": "https://localhost:8080/",
          "height": 270
        },
        "id": "uSgPmoNDHSLU",
        "outputId": "d42d2b01-43f0-4550-c018-67b1e95e6047"
      },
      "outputs": [
        {
          "data": {
            "text/html": [
              "<div>\n",
              "<style scoped>\n",
              "    .dataframe tbody tr th:only-of-type {\n",
              "        vertical-align: middle;\n",
              "    }\n",
              "\n",
              "    .dataframe tbody tr th {\n",
              "        vertical-align: top;\n",
              "    }\n",
              "\n",
              "    .dataframe thead th {\n",
              "        text-align: right;\n",
              "    }\n",
              "</style>\n",
              "<table border=\"1\" class=\"dataframe\">\n",
              "  <thead>\n",
              "    <tr style=\"text-align: right;\">\n",
              "      <th></th>\n",
              "      <th>airline</th>\n",
              "      <th>flight</th>\n",
              "      <th>source_city</th>\n",
              "      <th>departure_time</th>\n",
              "      <th>stops</th>\n",
              "      <th>arrival_time</th>\n",
              "      <th>destination_city</th>\n",
              "      <th>class</th>\n",
              "      <th>duration</th>\n",
              "      <th>days_left</th>\n",
              "      <th>price</th>\n",
              "    </tr>\n",
              "  </thead>\n",
              "  <tbody>\n",
              "    <tr>\n",
              "      <th>0</th>\n",
              "      <td>Vistara</td>\n",
              "      <td>UK-705</td>\n",
              "      <td>Delhi</td>\n",
              "      <td>Early_Morning</td>\n",
              "      <td>two_or_more</td>\n",
              "      <td>Evening</td>\n",
              "      <td>Chennai</td>\n",
              "      <td>Economy</td>\n",
              "      <td>12.42</td>\n",
              "      <td>16</td>\n",
              "      <td>14293</td>\n",
              "    </tr>\n",
              "    <tr>\n",
              "      <th>1</th>\n",
              "      <td>Vistara</td>\n",
              "      <td>UK-951</td>\n",
              "      <td>Delhi</td>\n",
              "      <td>Afternoon</td>\n",
              "      <td>one</td>\n",
              "      <td>Evening</td>\n",
              "      <td>Kolkata</td>\n",
              "      <td>Economy</td>\n",
              "      <td>26.50</td>\n",
              "      <td>38</td>\n",
              "      <td>6821</td>\n",
              "    </tr>\n",
              "    <tr>\n",
              "      <th>2</th>\n",
              "      <td>Vistara</td>\n",
              "      <td>UK-878</td>\n",
              "      <td>Hyderabad</td>\n",
              "      <td>Afternoon</td>\n",
              "      <td>one</td>\n",
              "      <td>Evening</td>\n",
              "      <td>Kolkata</td>\n",
              "      <td>Economy</td>\n",
              "      <td>27.92</td>\n",
              "      <td>20</td>\n",
              "      <td>9079</td>\n",
              "    </tr>\n",
              "    <tr>\n",
              "      <th>3</th>\n",
              "      <td>Vistara</td>\n",
              "      <td>UK-902</td>\n",
              "      <td>Mumbai</td>\n",
              "      <td>Afternoon</td>\n",
              "      <td>one</td>\n",
              "      <td>Morning</td>\n",
              "      <td>Hyderabad</td>\n",
              "      <td>Business</td>\n",
              "      <td>17.92</td>\n",
              "      <td>29</td>\n",
              "      <td>58125</td>\n",
              "    </tr>\n",
              "    <tr>\n",
              "      <th>4</th>\n",
              "      <td>Air_India</td>\n",
              "      <td>AI-809</td>\n",
              "      <td>Mumbai</td>\n",
              "      <td>Morning</td>\n",
              "      <td>one</td>\n",
              "      <td>Morning</td>\n",
              "      <td>Chennai</td>\n",
              "      <td>Economy</td>\n",
              "      <td>22.92</td>\n",
              "      <td>38</td>\n",
              "      <td>5152</td>\n",
              "    </tr>\n",
              "  </tbody>\n",
              "</table>\n",
              "</div>"
            ],
            "text/plain": [
              "     airline  flight source_city departure_time        stops arrival_time  \\\n",
              "0    Vistara  UK-705       Delhi  Early_Morning  two_or_more      Evening   \n",
              "1    Vistara  UK-951       Delhi      Afternoon          one      Evening   \n",
              "2    Vistara  UK-878   Hyderabad      Afternoon          one      Evening   \n",
              "3    Vistara  UK-902      Mumbai      Afternoon          one      Morning   \n",
              "4  Air_India  AI-809      Mumbai        Morning          one      Morning   \n",
              "\n",
              "  destination_city     class  duration  days_left  price  \n",
              "0          Chennai   Economy     12.42         16  14293  \n",
              "1          Kolkata   Economy     26.50         38   6821  \n",
              "2          Kolkata   Economy     27.92         20   9079  \n",
              "3        Hyderabad  Business     17.92         29  58125  \n",
              "4          Chennai   Economy     22.92         38   5152  "
            ]
          },
          "execution_count": 50,
          "metadata": {},
          "output_type": "execute_result"
        }
      ],
      "source": [
        "# Display inference set\n",
        "data_inf.head()"
      ]
    },
    {
      "cell_type": "code",
      "execution_count": 51,
      "metadata": {
        "colab": {
          "base_uri": "https://localhost:8080/",
          "height": 833
        },
        "id": "BFvH_ZLIHiOH",
        "outputId": "6ae68bd2-6df8-4403-c41b-8cf945c10b28"
      },
      "outputs": [
        {
          "data": {
            "text/html": [
              "<div>\n",
              "<style scoped>\n",
              "    .dataframe tbody tr th:only-of-type {\n",
              "        vertical-align: middle;\n",
              "    }\n",
              "\n",
              "    .dataframe tbody tr th {\n",
              "        vertical-align: top;\n",
              "    }\n",
              "\n",
              "    .dataframe thead th {\n",
              "        text-align: right;\n",
              "    }\n",
              "</style>\n",
              "<table border=\"1\" class=\"dataframe\">\n",
              "  <thead>\n",
              "    <tr style=\"text-align: right;\">\n",
              "      <th></th>\n",
              "      <th>airline</th>\n",
              "      <th>source_city</th>\n",
              "      <th>departure_time</th>\n",
              "      <th>stops</th>\n",
              "      <th>arrival_time</th>\n",
              "      <th>destination_city</th>\n",
              "      <th>class</th>\n",
              "      <th>duration</th>\n",
              "      <th>days_left</th>\n",
              "    </tr>\n",
              "  </thead>\n",
              "  <tbody>\n",
              "    <tr>\n",
              "      <th>0</th>\n",
              "      <td>Vistara</td>\n",
              "      <td>Delhi</td>\n",
              "      <td>Early_Morning</td>\n",
              "      <td>two_or_more</td>\n",
              "      <td>Evening</td>\n",
              "      <td>Chennai</td>\n",
              "      <td>Economy</td>\n",
              "      <td>12.42</td>\n",
              "      <td>16</td>\n",
              "    </tr>\n",
              "    <tr>\n",
              "      <th>1</th>\n",
              "      <td>Vistara</td>\n",
              "      <td>Delhi</td>\n",
              "      <td>Afternoon</td>\n",
              "      <td>one</td>\n",
              "      <td>Evening</td>\n",
              "      <td>Kolkata</td>\n",
              "      <td>Economy</td>\n",
              "      <td>26.50</td>\n",
              "      <td>38</td>\n",
              "    </tr>\n",
              "    <tr>\n",
              "      <th>2</th>\n",
              "      <td>Vistara</td>\n",
              "      <td>Hyderabad</td>\n",
              "      <td>Afternoon</td>\n",
              "      <td>one</td>\n",
              "      <td>Evening</td>\n",
              "      <td>Kolkata</td>\n",
              "      <td>Economy</td>\n",
              "      <td>27.92</td>\n",
              "      <td>20</td>\n",
              "    </tr>\n",
              "    <tr>\n",
              "      <th>3</th>\n",
              "      <td>Vistara</td>\n",
              "      <td>Mumbai</td>\n",
              "      <td>Afternoon</td>\n",
              "      <td>one</td>\n",
              "      <td>Morning</td>\n",
              "      <td>Hyderabad</td>\n",
              "      <td>Business</td>\n",
              "      <td>17.92</td>\n",
              "      <td>29</td>\n",
              "    </tr>\n",
              "    <tr>\n",
              "      <th>4</th>\n",
              "      <td>Air_India</td>\n",
              "      <td>Mumbai</td>\n",
              "      <td>Morning</td>\n",
              "      <td>one</td>\n",
              "      <td>Morning</td>\n",
              "      <td>Chennai</td>\n",
              "      <td>Economy</td>\n",
              "      <td>22.92</td>\n",
              "      <td>38</td>\n",
              "    </tr>\n",
              "    <tr>\n",
              "      <th>5</th>\n",
              "      <td>Indigo</td>\n",
              "      <td>Hyderabad</td>\n",
              "      <td>Morning</td>\n",
              "      <td>one</td>\n",
              "      <td>Night</td>\n",
              "      <td>Kolkata</td>\n",
              "      <td>Economy</td>\n",
              "      <td>8.75</td>\n",
              "      <td>23</td>\n",
              "    </tr>\n",
              "    <tr>\n",
              "      <th>6</th>\n",
              "      <td>Indigo</td>\n",
              "      <td>Mumbai</td>\n",
              "      <td>Early_Morning</td>\n",
              "      <td>zero</td>\n",
              "      <td>Morning</td>\n",
              "      <td>Delhi</td>\n",
              "      <td>Economy</td>\n",
              "      <td>2.25</td>\n",
              "      <td>19</td>\n",
              "    </tr>\n",
              "    <tr>\n",
              "      <th>7</th>\n",
              "      <td>Indigo</td>\n",
              "      <td>Delhi</td>\n",
              "      <td>Morning</td>\n",
              "      <td>zero</td>\n",
              "      <td>Morning</td>\n",
              "      <td>Mumbai</td>\n",
              "      <td>Economy</td>\n",
              "      <td>2.33</td>\n",
              "      <td>13</td>\n",
              "    </tr>\n",
              "    <tr>\n",
              "      <th>8</th>\n",
              "      <td>Air_India</td>\n",
              "      <td>Hyderabad</td>\n",
              "      <td>Morning</td>\n",
              "      <td>one</td>\n",
              "      <td>Night</td>\n",
              "      <td>Bangalore</td>\n",
              "      <td>Business</td>\n",
              "      <td>10.33</td>\n",
              "      <td>46</td>\n",
              "    </tr>\n",
              "    <tr>\n",
              "      <th>9</th>\n",
              "      <td>GO_FIRST</td>\n",
              "      <td>Delhi</td>\n",
              "      <td>Early_Morning</td>\n",
              "      <td>one</td>\n",
              "      <td>Evening</td>\n",
              "      <td>Chennai</td>\n",
              "      <td>Economy</td>\n",
              "      <td>9.83</td>\n",
              "      <td>34</td>\n",
              "    </tr>\n",
              "    <tr>\n",
              "      <th>10</th>\n",
              "      <td>Indigo</td>\n",
              "      <td>Kolkata</td>\n",
              "      <td>Morning</td>\n",
              "      <td>one</td>\n",
              "      <td>Night</td>\n",
              "      <td>Chennai</td>\n",
              "      <td>Economy</td>\n",
              "      <td>11.00</td>\n",
              "      <td>39</td>\n",
              "    </tr>\n",
              "    <tr>\n",
              "      <th>11</th>\n",
              "      <td>AirAsia</td>\n",
              "      <td>Delhi</td>\n",
              "      <td>Early_Morning</td>\n",
              "      <td>one</td>\n",
              "      <td>Afternoon</td>\n",
              "      <td>Hyderabad</td>\n",
              "      <td>Economy</td>\n",
              "      <td>7.58</td>\n",
              "      <td>3</td>\n",
              "    </tr>\n",
              "    <tr>\n",
              "      <th>12</th>\n",
              "      <td>Air_India</td>\n",
              "      <td>Delhi</td>\n",
              "      <td>Morning</td>\n",
              "      <td>one</td>\n",
              "      <td>Evening</td>\n",
              "      <td>Mumbai</td>\n",
              "      <td>Economy</td>\n",
              "      <td>7.25</td>\n",
              "      <td>31</td>\n",
              "    </tr>\n",
              "    <tr>\n",
              "      <th>13</th>\n",
              "      <td>AirAsia</td>\n",
              "      <td>Chennai</td>\n",
              "      <td>Evening</td>\n",
              "      <td>one</td>\n",
              "      <td>Night</td>\n",
              "      <td>Mumbai</td>\n",
              "      <td>Economy</td>\n",
              "      <td>4.50</td>\n",
              "      <td>15</td>\n",
              "    </tr>\n",
              "    <tr>\n",
              "      <th>14</th>\n",
              "      <td>Vistara</td>\n",
              "      <td>Bangalore</td>\n",
              "      <td>Evening</td>\n",
              "      <td>one</td>\n",
              "      <td>Morning</td>\n",
              "      <td>Delhi</td>\n",
              "      <td>Business</td>\n",
              "      <td>15.08</td>\n",
              "      <td>37</td>\n",
              "    </tr>\n",
              "    <tr>\n",
              "      <th>15</th>\n",
              "      <td>Vistara</td>\n",
              "      <td>Chennai</td>\n",
              "      <td>Afternoon</td>\n",
              "      <td>one</td>\n",
              "      <td>Night</td>\n",
              "      <td>Delhi</td>\n",
              "      <td>Economy</td>\n",
              "      <td>11.25</td>\n",
              "      <td>8</td>\n",
              "    </tr>\n",
              "    <tr>\n",
              "      <th>16</th>\n",
              "      <td>Indigo</td>\n",
              "      <td>Chennai</td>\n",
              "      <td>Early_Morning</td>\n",
              "      <td>one</td>\n",
              "      <td>Afternoon</td>\n",
              "      <td>Kolkata</td>\n",
              "      <td>Economy</td>\n",
              "      <td>6.75</td>\n",
              "      <td>27</td>\n",
              "    </tr>\n",
              "    <tr>\n",
              "      <th>17</th>\n",
              "      <td>Indigo</td>\n",
              "      <td>Mumbai</td>\n",
              "      <td>Afternoon</td>\n",
              "      <td>zero</td>\n",
              "      <td>Afternoon</td>\n",
              "      <td>Delhi</td>\n",
              "      <td>Economy</td>\n",
              "      <td>2.17</td>\n",
              "      <td>31</td>\n",
              "    </tr>\n",
              "    <tr>\n",
              "      <th>18</th>\n",
              "      <td>GO_FIRST</td>\n",
              "      <td>Mumbai</td>\n",
              "      <td>Morning</td>\n",
              "      <td>one</td>\n",
              "      <td>Afternoon</td>\n",
              "      <td>Delhi</td>\n",
              "      <td>Economy</td>\n",
              "      <td>6.08</td>\n",
              "      <td>33</td>\n",
              "    </tr>\n",
              "    <tr>\n",
              "      <th>19</th>\n",
              "      <td>Air_India</td>\n",
              "      <td>Chennai</td>\n",
              "      <td>Night</td>\n",
              "      <td>one</td>\n",
              "      <td>Afternoon</td>\n",
              "      <td>Kolkata</td>\n",
              "      <td>Business</td>\n",
              "      <td>18.17</td>\n",
              "      <td>13</td>\n",
              "    </tr>\n",
              "    <tr>\n",
              "      <th>20</th>\n",
              "      <td>Air_India</td>\n",
              "      <td>Bangalore</td>\n",
              "      <td>Morning</td>\n",
              "      <td>two_or_more</td>\n",
              "      <td>Night</td>\n",
              "      <td>Kolkata</td>\n",
              "      <td>Economy</td>\n",
              "      <td>11.92</td>\n",
              "      <td>7</td>\n",
              "    </tr>\n",
              "    <tr>\n",
              "      <th>21</th>\n",
              "      <td>Vistara</td>\n",
              "      <td>Kolkata</td>\n",
              "      <td>Early_Morning</td>\n",
              "      <td>one</td>\n",
              "      <td>Evening</td>\n",
              "      <td>Chennai</td>\n",
              "      <td>Economy</td>\n",
              "      <td>9.17</td>\n",
              "      <td>29</td>\n",
              "    </tr>\n",
              "    <tr>\n",
              "      <th>22</th>\n",
              "      <td>Indigo</td>\n",
              "      <td>Hyderabad</td>\n",
              "      <td>Night</td>\n",
              "      <td>zero</td>\n",
              "      <td>Night</td>\n",
              "      <td>Bangalore</td>\n",
              "      <td>Economy</td>\n",
              "      <td>1.25</td>\n",
              "      <td>41</td>\n",
              "    </tr>\n",
              "    <tr>\n",
              "      <th>23</th>\n",
              "      <td>Vistara</td>\n",
              "      <td>Mumbai</td>\n",
              "      <td>Night</td>\n",
              "      <td>one</td>\n",
              "      <td>Evening</td>\n",
              "      <td>Chennai</td>\n",
              "      <td>Business</td>\n",
              "      <td>17.58</td>\n",
              "      <td>23</td>\n",
              "    </tr>\n",
              "    <tr>\n",
              "      <th>24</th>\n",
              "      <td>SpiceJet</td>\n",
              "      <td>Bangalore</td>\n",
              "      <td>Afternoon</td>\n",
              "      <td>one</td>\n",
              "      <td>Night</td>\n",
              "      <td>Delhi</td>\n",
              "      <td>Economy</td>\n",
              "      <td>5.50</td>\n",
              "      <td>20</td>\n",
              "    </tr>\n",
              "  </tbody>\n",
              "</table>\n",
              "</div>"
            ],
            "text/plain": [
              "      airline source_city departure_time        stops arrival_time  \\\n",
              "0     Vistara       Delhi  Early_Morning  two_or_more      Evening   \n",
              "1     Vistara       Delhi      Afternoon          one      Evening   \n",
              "2     Vistara   Hyderabad      Afternoon          one      Evening   \n",
              "3     Vistara      Mumbai      Afternoon          one      Morning   \n",
              "4   Air_India      Mumbai        Morning          one      Morning   \n",
              "5      Indigo   Hyderabad        Morning          one        Night   \n",
              "6      Indigo      Mumbai  Early_Morning         zero      Morning   \n",
              "7      Indigo       Delhi        Morning         zero      Morning   \n",
              "8   Air_India   Hyderabad        Morning          one        Night   \n",
              "9    GO_FIRST       Delhi  Early_Morning          one      Evening   \n",
              "10     Indigo     Kolkata        Morning          one        Night   \n",
              "11    AirAsia       Delhi  Early_Morning          one    Afternoon   \n",
              "12  Air_India       Delhi        Morning          one      Evening   \n",
              "13    AirAsia     Chennai        Evening          one        Night   \n",
              "14    Vistara   Bangalore        Evening          one      Morning   \n",
              "15    Vistara     Chennai      Afternoon          one        Night   \n",
              "16     Indigo     Chennai  Early_Morning          one    Afternoon   \n",
              "17     Indigo      Mumbai      Afternoon         zero    Afternoon   \n",
              "18   GO_FIRST      Mumbai        Morning          one    Afternoon   \n",
              "19  Air_India     Chennai          Night          one    Afternoon   \n",
              "20  Air_India   Bangalore        Morning  two_or_more        Night   \n",
              "21    Vistara     Kolkata  Early_Morning          one      Evening   \n",
              "22     Indigo   Hyderabad          Night         zero        Night   \n",
              "23    Vistara      Mumbai          Night          one      Evening   \n",
              "24   SpiceJet   Bangalore      Afternoon          one        Night   \n",
              "\n",
              "   destination_city     class  duration  days_left  \n",
              "0           Chennai   Economy     12.42         16  \n",
              "1           Kolkata   Economy     26.50         38  \n",
              "2           Kolkata   Economy     27.92         20  \n",
              "3         Hyderabad  Business     17.92         29  \n",
              "4           Chennai   Economy     22.92         38  \n",
              "5           Kolkata   Economy      8.75         23  \n",
              "6             Delhi   Economy      2.25         19  \n",
              "7            Mumbai   Economy      2.33         13  \n",
              "8         Bangalore  Business     10.33         46  \n",
              "9           Chennai   Economy      9.83         34  \n",
              "10          Chennai   Economy     11.00         39  \n",
              "11        Hyderabad   Economy      7.58          3  \n",
              "12           Mumbai   Economy      7.25         31  \n",
              "13           Mumbai   Economy      4.50         15  \n",
              "14            Delhi  Business     15.08         37  \n",
              "15            Delhi   Economy     11.25          8  \n",
              "16          Kolkata   Economy      6.75         27  \n",
              "17            Delhi   Economy      2.17         31  \n",
              "18            Delhi   Economy      6.08         33  \n",
              "19          Kolkata  Business     18.17         13  \n",
              "20          Kolkata   Economy     11.92          7  \n",
              "21          Chennai   Economy      9.17         29  \n",
              "22        Bangalore   Economy      1.25         41  \n",
              "23          Chennai  Business     17.58         23  \n",
              "24            Delhi   Economy      5.50         20  "
            ]
          },
          "execution_count": 51,
          "metadata": {},
          "output_type": "execute_result"
        }
      ],
      "source": [
        "data_inf.drop(columns=['flight', 'price'])"
      ]
    },
    {
      "cell_type": "code",
      "execution_count": 52,
      "metadata": {
        "id": "Y3Ipl0fbH0UM"
      },
      "outputs": [],
      "source": [
        "# melakukan predict pada inference set\n",
        "y_pred_inf = grid_ada.best_estimator_.predict(data_inf)"
      ]
    },
    {
      "cell_type": "code",
      "execution_count": 53,
      "metadata": {
        "id": "grzfMS-QIC5y"
      },
      "outputs": [],
      "source": [
        "# Membuat hasil prediksi menjadi dataframe\n",
        "y_pred_inf_df = pd.DataFrame(y_pred_inf, columns=['Price_Pred'])"
      ]
    },
    {
      "cell_type": "code",
      "execution_count": 54,
      "metadata": {
        "colab": {
          "base_uri": "https://localhost:8080/",
          "height": 833
        },
        "id": "zm-JE-jJIJ4a",
        "outputId": "666f8f1f-31f0-4be9-d52e-293cfd58778d"
      },
      "outputs": [
        {
          "data": {
            "text/html": [
              "<div>\n",
              "<style scoped>\n",
              "    .dataframe tbody tr th:only-of-type {\n",
              "        vertical-align: middle;\n",
              "    }\n",
              "\n",
              "    .dataframe tbody tr th {\n",
              "        vertical-align: top;\n",
              "    }\n",
              "\n",
              "    .dataframe thead th {\n",
              "        text-align: right;\n",
              "    }\n",
              "</style>\n",
              "<table border=\"1\" class=\"dataframe\">\n",
              "  <thead>\n",
              "    <tr style=\"text-align: right;\">\n",
              "      <th></th>\n",
              "      <th>price</th>\n",
              "      <th>Price_Pred</th>\n",
              "    </tr>\n",
              "  </thead>\n",
              "  <tbody>\n",
              "    <tr>\n",
              "      <th>0</th>\n",
              "      <td>14293</td>\n",
              "      <td>5784.944610</td>\n",
              "    </tr>\n",
              "    <tr>\n",
              "      <th>1</th>\n",
              "      <td>6821</td>\n",
              "      <td>5659.428260</td>\n",
              "    </tr>\n",
              "    <tr>\n",
              "      <th>2</th>\n",
              "      <td>9079</td>\n",
              "      <td>5659.428260</td>\n",
              "    </tr>\n",
              "    <tr>\n",
              "      <th>3</th>\n",
              "      <td>58125</td>\n",
              "      <td>59153.576702</td>\n",
              "    </tr>\n",
              "    <tr>\n",
              "      <th>4</th>\n",
              "      <td>5152</td>\n",
              "      <td>5602.527247</td>\n",
              "    </tr>\n",
              "    <tr>\n",
              "      <th>5</th>\n",
              "      <td>5750</td>\n",
              "      <td>5602.527247</td>\n",
              "    </tr>\n",
              "    <tr>\n",
              "      <th>6</th>\n",
              "      <td>2339</td>\n",
              "      <td>3222.331155</td>\n",
              "    </tr>\n",
              "    <tr>\n",
              "      <th>7</th>\n",
              "      <td>5955</td>\n",
              "      <td>9515.838580</td>\n",
              "    </tr>\n",
              "    <tr>\n",
              "      <th>8</th>\n",
              "      <td>56590</td>\n",
              "      <td>49473.289006</td>\n",
              "    </tr>\n",
              "    <tr>\n",
              "      <th>9</th>\n",
              "      <td>3475</td>\n",
              "      <td>5602.527247</td>\n",
              "    </tr>\n",
              "    <tr>\n",
              "      <th>10</th>\n",
              "      <td>3620</td>\n",
              "      <td>5602.527247</td>\n",
              "    </tr>\n",
              "    <tr>\n",
              "      <th>11</th>\n",
              "      <td>5953</td>\n",
              "      <td>15094.941325</td>\n",
              "    </tr>\n",
              "    <tr>\n",
              "      <th>12</th>\n",
              "      <td>3855</td>\n",
              "      <td>5591.378992</td>\n",
              "    </tr>\n",
              "    <tr>\n",
              "      <th>13</th>\n",
              "      <td>5880</td>\n",
              "      <td>10530.699212</td>\n",
              "    </tr>\n",
              "    <tr>\n",
              "      <th>14</th>\n",
              "      <td>57081</td>\n",
              "      <td>59153.576702</td>\n",
              "    </tr>\n",
              "    <tr>\n",
              "      <th>15</th>\n",
              "      <td>16140</td>\n",
              "      <td>11266.051617</td>\n",
              "    </tr>\n",
              "    <tr>\n",
              "      <th>16</th>\n",
              "      <td>5042</td>\n",
              "      <td>5591.378992</td>\n",
              "    </tr>\n",
              "    <tr>\n",
              "      <th>17</th>\n",
              "      <td>2738</td>\n",
              "      <td>3222.331155</td>\n",
              "    </tr>\n",
              "    <tr>\n",
              "      <th>18</th>\n",
              "      <td>7900</td>\n",
              "      <td>5591.378992</td>\n",
              "    </tr>\n",
              "    <tr>\n",
              "      <th>19</th>\n",
              "      <td>55377</td>\n",
              "      <td>49478.779981</td>\n",
              "    </tr>\n",
              "    <tr>\n",
              "      <th>20</th>\n",
              "      <td>13474</td>\n",
              "      <td>11266.051617</td>\n",
              "    </tr>\n",
              "    <tr>\n",
              "      <th>21</th>\n",
              "      <td>6009</td>\n",
              "      <td>5659.428260</td>\n",
              "    </tr>\n",
              "    <tr>\n",
              "      <th>22</th>\n",
              "      <td>1776</td>\n",
              "      <td>3222.331155</td>\n",
              "    </tr>\n",
              "    <tr>\n",
              "      <th>23</th>\n",
              "      <td>49613</td>\n",
              "      <td>59153.576702</td>\n",
              "    </tr>\n",
              "    <tr>\n",
              "      <th>24</th>\n",
              "      <td>5654</td>\n",
              "      <td>5591.378992</td>\n",
              "    </tr>\n",
              "  </tbody>\n",
              "</table>\n",
              "</div>"
            ],
            "text/plain": [
              "    price    Price_Pred\n",
              "0   14293   5784.944610\n",
              "1    6821   5659.428260\n",
              "2    9079   5659.428260\n",
              "3   58125  59153.576702\n",
              "4    5152   5602.527247\n",
              "5    5750   5602.527247\n",
              "6    2339   3222.331155\n",
              "7    5955   9515.838580\n",
              "8   56590  49473.289006\n",
              "9    3475   5602.527247\n",
              "10   3620   5602.527247\n",
              "11   5953  15094.941325\n",
              "12   3855   5591.378992\n",
              "13   5880  10530.699212\n",
              "14  57081  59153.576702\n",
              "15  16140  11266.051617\n",
              "16   5042   5591.378992\n",
              "17   2738   3222.331155\n",
              "18   7900   5591.378992\n",
              "19  55377  49478.779981\n",
              "20  13474  11266.051617\n",
              "21   6009   5659.428260\n",
              "22   1776   3222.331155\n",
              "23  49613  59153.576702\n",
              "24   5654   5591.378992"
            ]
          },
          "execution_count": 54,
          "metadata": {},
          "output_type": "execute_result"
        }
      ],
      "source": [
        "pred_inf = pd.concat([data_inf['price'], y_pred_inf_df], axis=1)\n",
        "pred_inf"
      ]
    },
    {
      "cell_type": "code",
      "execution_count": 55,
      "metadata": {
        "colab": {
          "base_uri": "https://localhost:8080/"
        },
        "id": "5Eany3SyJZV2",
        "outputId": "2bb4531c-e594-4ed7-9bc1-7b4d7ac48a2c"
      },
      "outputs": [
        {
          "name": "stdout",
          "output_type": "stream",
          "text": [
            "AdaBoost Model\n",
            "\n",
            "Inference-Set Mean Absolute Error (MAE):  3028.3942229157374\n",
            "Inference-Set R2 Score: 0.9560016056465318\n"
          ]
        }
      ],
      "source": [
        "# Model Evaluation Using MAE and R2\n",
        "print('AdaBoost Model')\n",
        "print('')\n",
        "print('Inference-Set Mean Absolute Error (MAE): ', mean_absolute_error(data_inf['price'], y_pred_inf))\n",
        "print(f'Inference-Set R2 Score: {r2_score(data_inf.price, y_pred_inf)}')"
      ]
    },
    {
      "cell_type": "markdown",
      "metadata": {
        "id": "oZPWAm1JcM8H"
      },
      "source": [
        "The tuned AdaBoost model yields a quite good score on the Inference set, obtaining an MAE of 3028 and an R2 score of 0.95."
      ]
    },
    {
      "cell_type": "markdown",
      "metadata": {
        "id": "8m0e7jCksIcc"
      },
      "source": [
        "# Conclusion"
      ]
    },
    {
      "cell_type": "markdown",
      "metadata": {
        "id": "abg27DcvNnT6"
      },
      "source": [
        "This dataset contains information about the details of flight ticket bookings in India. The dataset includes 6 airlines with 6 origin and destination cities. Among the 6 airlines, it turns out that Vistara is the most commonly used by people in India, while SpiceJet is the least preferred. From the 6 airlines, only 2 offer a business class, namely Vistara and Air India, making them the two airlines with the highest average ticket prices. Among the 6 destinations, Mumbai is the most frequently visited, followed by Delhi, as these two cities are bustling and large in India. Flights in India involve transit, with the majority having a single layover before reaching their destination. Ticket booking can be done from one day up to 49 days before departure, and prices vary depending on the booking period and departure date.\n",
        "\n",
        "Based on Exploratory Data Analysis (EDA) and personal judgment, all features are found to influence the ticket price except for the flight number. Therefore, all features will be used to predict flight ticket prices.\n",
        "\n",
        "Initially, three regression models were selected: Linear Regression, SVM, KNN, Decision Tree, Random Forest, and AdaBoost. These six models were tested using cross-validation to find the best average score.\n",
        "\n",
        "The AdaBoost model successfully achieved the best average cross-validation score of 0.93 with a very low standard deviation. Subsequently, the best hyperparameters for the AdaBoost model were determined using grid search. The baseline AdaBoost model obtained an MAE of 4311 and an R2 Score of 0.918 on the training set, and an MAE of 4356 and an R2 Score of 0.917 on the test set. After hyperparameter tuning using grid search, the AdaBoost model achieved better results, with an MAE of 3547 and an R2 score of 0.936 on the training set, and an MAE of 3576 and an R2 score of 0.935 on the test set. The tuned model outperformed the baseline model and remained a good fit.\n",
        "\n",
        "On the Inference Set, the tuned AdaBoost model also performed exceptionally well, producing an MAE of 3028 and an R2 score of 0.956. This means the model can predict prices with a possibility of being off by 3028 rupees higher or lower than the actual price."
      ]
    },
    {
      "cell_type": "markdown",
      "metadata": {},
      "source": [
        "**Advantages:**\n",
        "- **Good Performance:** With an R2 Score approaching 0.92 for both the training and testing sets, the model appears to produce accurate predictions, explaining around 92% of the variance in the data.\n",
        "  \n",
        "- **Consistency between Train and Test Set:** Nearly identical MAE and R2 values for the training and testing sets indicate that the model is not overfitting.\n",
        "\n",
        "**Disadvantages:**\n",
        "- **Some Errors Persist:** Despite its good performance, the model still has an MAE of around 4311 on the training set and 4356 on the testing set, indicating that the model's predictions have an average error around these values.\n",
        "\n",
        "- **Model Complexity:** Boosting-based models like AdaBoost can be complex and require more computational resources compared to simpler models.\n",
        "\n",
        "**Business Impact:**\n",
        "- **Informed Decision-Making:** With a model capable of explaining ~92% variance, the company can make more accurate decisions based on predictions from the model.\n",
        "  \n",
        "- **Resource Efficiency:** Using a highly accurate model can reduce the risk of errors, which, in turn, can save resources and costs.\n",
        "\n",
        "- **Customer Trust:** Customers or other stakeholders may have more trust in a company that uses a reliable predictive model.\n",
        "\n",
        "**Further Improvement:**\n",
        "- **Parameter Tuning:** Using techniques like grid search or random search, various parameter combinations can be tried to enhance model performance.\n",
        "\n",
        "- **Data Preprocessing:** Revisiting data preprocessing, such as feature engineering, feature selection, and normalization, may provide improvements in performance.\n",
        "\n",
        "- **Try Other Models:** Besides AdaBoost, trying other boosting algorithms like Gradient Boosting, XGBoost, or LightGBM may offer better performance.\n",
        "\n",
        "- **Collect More Data:** Sometimes, increasing the amount of training data can improve model performance.\n",
        "\n",
        "- **Deep Learning:** If you have abundant data and computational resources, considering a deep learning approach may offer performance improvements for certain types of data or problems.\n"
      ]
    },
    {
      "cell_type": "markdown",
      "metadata": {
        "id": "ctRPoNLpeHxj"
      },
      "source": [
        "# ix. Model Saving"
      ]
    },
    {
      "cell_type": "code",
      "execution_count": 56,
      "metadata": {
        "id": "xFdWxPBThstM"
      },
      "outputs": [],
      "source": [
        "with open('model_ada.pkl', 'wb') as file_1:\n",
        "  joblib.dump(grid_ada.best_estimator_, file_1)"
      ]
    }
  ],
  "metadata": {
    "colab": {
      "collapsed_sections": [],
      "provenance": []
    },
    "kernelspec": {
      "display_name": "Python 3.11.4 ('base')",
      "language": "python",
      "name": "python3"
    },
    "language_info": {
      "codemirror_mode": {
        "name": "ipython",
        "version": 3
      },
      "file_extension": ".py",
      "mimetype": "text/x-python",
      "name": "python",
      "nbconvert_exporter": "python",
      "pygments_lexer": "ipython3",
      "version": "3.11.4"
    },
    "vscode": {
      "interpreter": {
        "hash": "e0b10268c762b08bb8312cbfc21c9d9ec15505e28fda88794e8cea909c197840"
      }
    }
  },
  "nbformat": 4,
  "nbformat_minor": 0
}
